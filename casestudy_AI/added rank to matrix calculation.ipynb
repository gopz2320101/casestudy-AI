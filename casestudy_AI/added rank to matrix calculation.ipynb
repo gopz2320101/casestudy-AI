{
 "cells": [
  {
   "cell_type": "code",
   "execution_count": 3,
   "metadata": {},
   "outputs": [
    {
     "data": {
      "text/plain": [
       "(Matrix([\n",
       " [1, 0, -1],\n",
       " [0, 1,  2]]),\n",
       " (0, 1))"
      ]
     },
     "execution_count": 3,
     "metadata": {},
     "output_type": "execute_result"
    }
   ],
   "source": [
    "import sympy\n",
    "sympy.Matrix([[1,2,3],[2,3,4]]).rref()"
   ]
  },
  {
   "cell_type": "code",
   "execution_count": 5,
   "metadata": {},
   "outputs": [
    {
     "name": "stdout",
     "output_type": "stream",
     "text": [
      "Requirement already satisfied: sympy in c:\\users\\gopikrishnan\\appdata\\local\\programs\\python\\python38\\lib\\site-packages (1.6.2)Note: you may need to restart the kernel to use updated packages.\n"
     ]
    },
    {
     "name": "stderr",
     "output_type": "stream",
     "text": [
      "WARNING: You are using pip version 20.1.1; however, version 20.2.3 is available.\n",
      "You should consider upgrading via the 'c:\\users\\gopikrishnan\\appdata\\local\\programs\\python\\python38\\python.exe -m pip install --upgrade pip' command.\n"
     ]
    },
    {
     "name": "stdout",
     "output_type": "stream",
     "text": [
      "\n",
      "Requirement already satisfied: mpmath>=0.19 in c:\\users\\gopikrishnan\\appdata\\local\\programs\\python\\python38\\lib\\site-packages (from sympy) (1.1.0)\n"
     ]
    }
   ],
   "source": [
    "pip install sympy\n"
   ]
  },
  {
   "cell_type": "code",
   "execution_count": 4,
   "metadata": {},
   "outputs": [
    {
     "data": {
      "text/plain": [
       "(Matrix([\n",
       " [1, 0, -1],\n",
       " [0, 1,  2]]),\n",
       " (0, 1))"
      ]
     },
     "execution_count": 4,
     "metadata": {},
     "output_type": "execute_result"
    }
   ],
   "source": [
    "#reduced row echelon form of matrix rref()\n",
    "import sympy\n",
    "sympy.Matrix([[1,2,3],[2,3,4]]).rref()"
   ]
  },
  {
   "cell_type": "code",
   "execution_count": 6,
   "metadata": {},
   "outputs": [
    {
     "name": "stdout",
     "output_type": "stream",
     "text": [
      "\n",
      "Reduced Row Echelon Form: \n",
      " Matrix([[1, 0, 0, 1], [0, 1, 0, -2], [0, 0, 1, 1], [0, 0, 0, 0]])\n",
      "\n",
      "Pivotal Columns: \n",
      " (0, 1, 2)\n"
     ]
    }
   ],
   "source": [
    "# Reduced Row echelon\n",
    "import sympy as sym\n",
    "A = ([[8,-4,-7,9], [-4,3,6,-4],[-3,-2,-5,-4],[9,-8,-18,7]])\n",
    "\n",
    "B,i = sym.Matrix(A).rref()\n",
    "print(\"\\nReduced Row Echelon Form: \\n\",B)\n",
    "print(\"\\nPivotal Columns: \\n\",i)"
   ]
  },
  {
   "cell_type": "code",
   "execution_count": 7,
   "metadata": {},
   "outputs": [
    {
     "name": "stdout",
     "output_type": "stream",
     "text": [
      "Matrix([[1, -3, 0, -14, 0, -37], [0, 0, 1, 3, 0, 4], [0, 0, 0, 0, 1, 5], [0, 0, 0, 0, 0, 0]])\n",
      "(0, 2, 4)\n",
      "3\n",
      "\n",
      "Column Space of A: \n",
      " [[ 1  4  5]\n",
      " [ 2  9  8]\n",
      " [ 2  9  9]\n",
      " [-1 -4 -5]]\n"
     ]
    }
   ],
   "source": [
    "# Reduced Row Echelon form\n",
    "import sympy as sym\n",
    "import numpy as np\n",
    "A = [[1,-3,4,-2,5,4],[2,-6,9,-1,8,2],[2,-6,9,-1,9,7],[-1,3,-4,2,-5,-4]]\n",
    "B,i = sym.Matrix(A).rref()\n",
    "print(B)\n",
    "print(i)\n",
    "print(len(i))\n",
    "\n",
    "# Column space of A\n",
    "C = np.array(A)\n",
    "print(\"\\nColumn Space of A: \\n\",C[:,i])"
   ]
  },
  {
   "cell_type": "code",
   "execution_count": 8,
   "metadata": {},
   "outputs": [
    {
     "name": "stdout",
     "output_type": "stream",
     "text": [
      "Matrix([[1, 0, 1, 0, 1], [0, 1, -2, 0, 3], [0, 0, 0, 1, -5], [0, 0, 0, 0, 0]])\n",
      "(0, 1, 3)\n",
      "3\n",
      "\n",
      "Row Space: \n",
      " [[1 0 1 0 1]\n",
      " [0 1 -2 0 3]\n",
      " [0 0 0 1 -5]]\n",
      "\n",
      "Column Space: \n",
      " [[-2 -5  0]\n",
      " [ 1  3  1]\n",
      " [ 3 11  7]\n",
      " [ 1  7  5]]\n"
     ]
    }
   ],
   "source": [
    "# Row Space, Column space\n",
    "import sympy as sym\n",
    "import numpy as np\n",
    "A = [[-2,-5,8,0,-17],[1,3,-5,1,5],[3,11,-19,7,1],[1,7,-13,5,-3]]\n",
    "B,i = sym.Matrix(A).rref()\n",
    "print(B)\n",
    "print(i)\n",
    "print(len(i))\n",
    "\n",
    "# Row Space of A\n",
    "R = np.array(B)\n",
    "print(\"\\nRow Space: \\n\",R[:len(i),:])\n",
    "\n",
    "# Column space of A\n",
    "C = np.array(A)\n",
    "print(\"\\nColumn Space: \\n\",C[:,i])"
   ]
  },
  {
   "cell_type": "code",
   "execution_count": 9,
   "metadata": {},
   "outputs": [
    {
     "name": "stdout",
     "output_type": "stream",
     "text": [
      "Matrix([[1, 0, 1, 0, 1], [0, 1, -2, 0, 3], [0, 0, 0, 1, -5], [0, 0, 0, 0, 0]])\n",
      "(0, 1, 3)\n",
      "3\n",
      "\n",
      "Row Space: \n",
      " [[1 0 1 0 1]\n",
      " [0 1 -2 0 3]\n",
      " [0 0 0 1 -5]]\n",
      "\n",
      "Column Space: \n",
      " [[-2 -5  0]\n",
      " [ 1  3  1]\n",
      " [ 3 11  7]\n",
      " [ 1  7  5]]\n"
     ]
    }
   ],
   "source": [
    "# Row Space, Column space\n",
    "import sympy as sym\n",
    "import numpy as np\n",
    "A = [[-2,-5,8,0,-17],[1,3,-5,1,5],[3,11,-19,7,1],[1,7,-13,5,-3]]\n",
    "B,i = sym.Matrix(A).rref()\n",
    "print(B)\n",
    "print(i)\n",
    "print(len(i))\n",
    "\n",
    "# Row Space of A\n",
    "R = np.array(B)\n",
    "print(\"\\nRow Space: \\n\",R[:len(i),:])\n",
    "\n",
    "# Column space of A\n",
    "C = np.array(A)\n",
    "print(\"\\nColumn Space: \\n\",C[:,i])"
   ]
  },
  {
   "cell_type": "code",
   "execution_count": 12,
   "metadata": {},
   "outputs": [
    {
     "name": "stdout",
     "output_type": "stream",
     "text": [
      "\n",
      "Null Space: \n",
      " [Matrix([\n",
      "[-1],\n",
      "[ 2],\n",
      "[ 1],\n",
      "[ 0],\n",
      "[ 0]]), Matrix([\n",
      "[-1],\n",
      "[-3],\n",
      "[ 0],\n",
      "[ 5],\n",
      "[ 1]])]\n",
      "transpose Matrix([[-2, 1, 3, 1], [-5, 3, 11, 7], [8, -5, -19, -13], [0, 1, 7, 5], [-17, 5, 1, -3]])\n",
      "\n",
      "Left Null Space: \n",
      " [Matrix([\n",
      "[-2],\n",
      "[-7],\n",
      "[ 1],\n",
      "[ 0]])]\n"
     ]
    }
   ],
   "source": [
    "# Null space and Left null space\n",
    "from sympy import Matrix\n",
    "A = [[-2,-5,8,0,-17],[1,3,-5,1,5],[3,11,-19,7,1],[1,7,-13,5,-3]]\n",
    "A = Matrix(A)\n",
    "A * A.nullspace()[0]\n",
    "print(\"\\nNull Space: \\n\",A.nullspace())\n",
    "\n",
    "#Transpose of a Matrix\n",
    "LN = A.T\n",
    "print(\"transpose\",LN)\n",
    "\n",
    "#Left Null SPace\n",
    "LN * LN.nullspace()[0]\n",
    "print(\"\\nLeft Null Space: \\n\",LN.nullspace())"
   ]
  },
  {
   "cell_type": "code",
   "execution_count": 13,
   "metadata": {},
   "outputs": [
    {
     "name": "stdout",
     "output_type": "stream",
     "text": [
      "\n",
      "Null Space: \n",
      " [Matrix([\n",
      "[-1],\n",
      "[ 2],\n",
      "[ 1],\n",
      "[ 0],\n",
      "[ 0]]), Matrix([\n",
      "[-1],\n",
      "[-3],\n",
      "[ 0],\n",
      "[ 5],\n",
      "[ 1]])]\n",
      "\n",
      "Transpose of A: \n",
      " Matrix([[-2, 1, 3, 1], [-5, 3, 11, 7], [8, -5, -19, -13], [0, 1, 7, 5], [-17, 5, 1, -3]])\n",
      "\n",
      "Left Null Space: \n",
      " [Matrix([\n",
      "[-2],\n",
      "[-7],\n",
      "[ 1],\n",
      "[ 0]])]\n"
     ]
    }
   ],
   "source": [
    "# Null space and Left null space\n",
    "from sympy import Matrix\n",
    "A = [[-2,-5,8,0,-17],[1,3,-5,1,5],[3,11,-19,7,1],[1,7,-13,5,-3]]\n",
    "A = Matrix(A)\n",
    "A * A.nullspace()[0]\n",
    "print(\"\\nNull Space: \\n\",A.nullspace())\n",
    "\n",
    "#Transpose of a Matrix\n",
    "LN = A.T\n",
    "print(\"\\nTranspose of A: \\n\",LN)\n",
    "\n",
    "#Left Null SPace\n",
    "LN * LN.nullspace()[0]\n",
    "print(\"\\nLeft Null Space: \\n\",LN.nullspace())"
   ]
  },
  {
   "cell_type": "code",
   "execution_count": 14,
   "metadata": {},
   "outputs": [
    {
     "name": "stdout",
     "output_type": "stream",
     "text": [
      "Matrix([[1, 0, 1, 0, 1], [0, 1, -2, 0, 3], [0, 0, 0, 1, -5], [0, 0, 0, 0, 0]])\n",
      "(0, 1, 3)\n",
      "3\n",
      "\n",
      "Row Space: \n",
      " [[1 0 1 0 1]\n",
      " [0 1 -2 0 3]\n",
      " [0 0 0 1 -5]]\n",
      "\n",
      "Column Space: \n",
      " [[-2 -5  0]\n",
      " [ 1  3  1]\n",
      " [ 3 11  7]\n",
      " [ 1  7  5]]\n"
     ]
    }
   ],
   "source": [
    "#assignment question 1\n",
    "import sympy as sym\n",
    "import numpy as np\n",
    "A = [[-2,-5,8,0,-17],[1,3,-5,1,5],[3,11,-19,7,1],[1,7,-13,5,-3]]\n",
    "B,i = sym.Matrix(A).rref()\n",
    "print(B)\n",
    "print(i)\n",
    "print(len(i))\n",
    "\n",
    "# Row Space of A\n",
    "R = np.array(B)\n",
    "print(\"\\nRow Space: \\n\",R[:len(i),:])\n",
    "\n",
    "# Column space of A\n",
    "C = np.array(A)\n",
    "print(\"\\nColumn Space: \\n\",C[:,i])"
   ]
  },
  {
   "cell_type": "code",
   "execution_count": 15,
   "metadata": {},
   "outputs": [
    {
     "name": "stdout",
     "output_type": "stream",
     "text": [
      "Matrix([[1, 0, 0, 0, 4], [0, 1, 0, 7/2, 1], [0, 0, 1, -5/2, 1], [0, 0, 0, 0, 0]])\n",
      "(0, 1, 2)\n",
      "3\n",
      "\n",
      "Row Space: \n",
      " [[1 0 0 0 4]\n",
      " [0 1 0 7/2 1]\n",
      " [0 0 1 -5/2 1]]\n",
      "\n",
      "Column Space: \n",
      " [[-2 -1  1]\n",
      " [ 1 -2 -4]\n",
      " [-7  8 10]\n",
      " [ 4 -5 -7]]\n"
     ]
    }
   ],
   "source": [
    "#assignment question 2,2\n",
    "import sympy as sym\n",
    "import numpy as np\n",
    "A = [[-2,-1,1,-6,-8],[1,-2,-4,3,-2],[-7,8,10,3,-10],[4,-5,-7,0,4]]\n",
    "B,i = sym.Matrix(A).rref()\n",
    "print(B)\n",
    "print(i)\n",
    "print(len(i))\n",
    "\n",
    "# Row Space of A\n",
    "R = np.array(B)\n",
    "print(\"\\nRow Space: \\n\",R[:len(i),:])\n",
    "\n",
    "# Column space of A\n",
    "C = np.array(A)\n",
    "print(\"\\nColumn Space: \\n\",C[:,i])"
   ]
  },
  {
   "cell_type": "code",
   "execution_count": 42,
   "metadata": {},
   "outputs": [
    {
     "name": "stdout",
     "output_type": "stream",
     "text": [
      "3\n",
      "\n",
      "Reduced Row Echelon Form: \n",
      " Matrix([[1, 0, 0, 0, 4], [0, 1, 0, 7/2, 1], [0, 0, 1, -5/2, 1], [0, 0, 0, 0, 0]])\n",
      "\n",
      "Pivotal Columns: \n",
      " (0, 1, 2)\n"
     ]
    }
   ],
   "source": [
    "#assignment 2 ,1\n",
    "import sympy as sym\n",
    "import scipy \n",
    "import numpy as np\n",
    "A = ([[-2,-1,1,-6,-8],[1,-2,-4,3,-2],[-7,8,10,3,-10],[4,-5,-7,0,4]])\n",
    "\n",
    "B,i = sym.Matrix(A).rref()\n",
    "c =  np.linalg.matrix_rank(A)\n",
    "\n",
    "\n",
    "print(c)\n",
    "print(\"\\nReduced Row Echelon Form: \\n\",B)\n",
    "print(\"\\nPivotal Columns: \\n\",i)\n"
   ]
  },
  {
   "cell_type": "code",
   "execution_count": 18,
   "metadata": {},
   "outputs": [
    {
     "name": "stdout",
     "output_type": "stream",
     "text": [
      "rank 2\n",
      "\n",
      "Reduced Row Echelon Form: \n",
      " Matrix([[1, 0, 2, -5, 6], [0, 1, 3, -4, 4], [0, 0, 0, 0, 0], [0, 0, 0, 0, 0]])\n",
      "\n",
      "Pivotal Columns: \n",
      " (0, 1)\n",
      "\n",
      "Row Space: \n",
      " [[1 0 2 -5 6]\n",
      " [0 1 3 -4 4]]\n",
      "\n",
      "Column Space: \n",
      " [[ 1 -2]\n",
      " [ 0  3]\n",
      " [ 0  0]\n",
      " [ 0  0]]\n"
     ]
    }
   ],
   "source": [
    "import sympy as sym\n",
    "import numpy as np\n",
    "A = ([[1,-2,-4,3,-2],[0,3,9,-12,12],[0,0,0,0,0],[0,0,0,0,0]])\n",
    "\n",
    "B,i = sym.Matrix(A).rref()\n",
    "c =  np.linalg.matrix_rank(A)\n",
    "print(\"rank\",c)\n",
    "print(\"\\nReduced Row Echelon Form: \\n\",B)\n",
    "print(\"\\nPivotal Columns: \\n\",i)\n",
    "R = np.array(B)\n",
    "print(\"\\nRow Space: \\n\",R[:len(i),:])\n",
    "\n",
    "# Column space of A\n",
    "C = np.array(A)\n",
    "print(\"\\nColumn Space: \\n\",C[:,i])"
   ]
  },
  {
   "cell_type": "code",
   "execution_count": 28,
   "metadata": {},
   "outputs": [
    {
     "name": "stdout",
     "output_type": "stream",
     "text": [
      "\n",
      "Null Space: \n",
      " [Matrix([\n",
      "[  1],\n",
      "[5/2],\n",
      "[  1],\n",
      "[  0]]), Matrix([\n",
      "[-5],\n",
      "[-3],\n",
      "[ 0],\n",
      "[ 1]])]\n",
      "rank of a : 2\n"
     ]
    }
   ],
   "source": [
    "from sympy import Matrix\n",
    "import numpy as np\n",
    "A = ([[1,-4,9,-7],[-1,2,-4,1],[5,-6,10,7]])\n",
    "A = Matrix(A)\n",
    "A * A.nullspace()[0]\n",
    "\n",
    "\n",
    "print(\"\\nNull Space: \\n\",A.nullspace())\n",
    "B = ([[1,-4,9,-7],[-1,2,-4,1],[5,-6,10,7]])\n",
    "c =  np.linalg.matrix_rank(B)\n",
    "print(\"rank of a :\",c)"
   ]
  },
  {
   "cell_type": "code",
   "execution_count": 27,
   "metadata": {},
   "outputs": [
    {
     "name": "stdout",
     "output_type": "stream",
     "text": [
      "\n",
      "Null Space: \n",
      " [Matrix([\n",
      "[  1],\n",
      "[5/2],\n",
      "[  1],\n",
      "[  0]]), Matrix([\n",
      "[-5],\n",
      "[-3],\n",
      "[ 0],\n",
      "[ 1]])]\n",
      "rank of a : 2\n",
      "Matrix([[1, 0, -1, 5], [0, 1, -5/2, 3], [0, 0, 0, 0]])\n",
      "(0, 1)\n",
      "2\n",
      "\n",
      "Row Space: \n",
      " [[1 0 -1 5]\n",
      " [0 1 -5/2 3]]\n",
      "\n",
      "Column Space: \n",
      " [[ 1 -4]\n",
      " [-1  2]\n",
      " [ 5 -6]]\n"
     ]
    }
   ],
   "source": [
    "B,i = sym.Matrix(A).rref()\n",
    "print(B)\n",
    "print(i)\n",
    "print(len(i))\n",
    "\n",
    "# Row Space of A\n",
    "R = np.array(B)\n",
    "print(\"\\nRow Space: \\n\",R[:len(i),:])\n",
    "\n",
    "# Column space of A\n",
    "C = np.array(A)\n",
    "print(\"\\nColumn Space: \\n\",C[:,i])"
   ]
  },
  {
   "cell_type": "code",
   "execution_count": 29,
   "metadata": {},
   "outputs": [
    {
     "name": "stdout",
     "output_type": "stream",
     "text": [
      "\n",
      "Null Space: \n",
      " [Matrix([\n",
      "[  1],\n",
      "[5/2],\n",
      "[  1],\n",
      "[  0]]), Matrix([\n",
      "[-5],\n",
      "[-3],\n",
      "[ 0],\n",
      "[ 1]])]\n",
      "rank of a : 2\n",
      "Matrix([[1, 0, -1, 5], [0, 1, -5/2, 3], [0, 0, 0, 0]])\n",
      "(0, 1)\n",
      "2\n",
      "\n",
      "Row Space: \n",
      " [[1 0 -1 5]\n",
      " [0 1 -5/2 3]]\n",
      "\n",
      "Column Space: \n",
      " [[1 -4]\n",
      " [-1 2]\n",
      " [5 -6]]\n"
     ]
    }
   ],
   "source": [
    "#assignment 3,1\n",
    "from sympy import Matrix\n",
    "import numpy as np\n",
    "A = ([[1,-4,9,-7],[-1,2,-4,1],[5,-6,10,7]])\n",
    "A = Matrix(A)\n",
    "A * A.nullspace()[0]\n",
    "\n",
    "\n",
    "print(\"\\nNull Space: \\n\",A.nullspace())\n",
    "B = ([[1,-4,9,-7],[-1,2,-4,1],[5,-6,10,7]])\n",
    "c =  np.linalg.matrix_rank(B)\n",
    "print(\"rank of a :\",c)\n",
    "B,i = sym.Matrix(A).rref()\n",
    "print(B)\n",
    "print(i)\n",
    "print(len(i))\n",
    "\n",
    "# Row Space of A\n",
    "R = np.array(B)\n",
    "print(\"\\nRow Space: \\n\",R[:len(i),:])\n",
    "\n",
    "# Column space of A\n",
    "C = np.array(A)\n",
    "print(\"\\nColumn Space: \\n\",C[:,i])"
   ]
  },
  {
   "cell_type": "code",
   "execution_count": 30,
   "metadata": {},
   "outputs": [
    {
     "name": "stdout",
     "output_type": "stream",
     "text": [
      "\n",
      "Null Space: \n",
      " [Matrix([\n",
      "[-3],\n",
      "[ 1],\n",
      "[ 0],\n",
      "[ 0],\n",
      "[ 0]]), Matrix([\n",
      "[-3],\n",
      "[ 0],\n",
      "[ 1],\n",
      "[ 1],\n",
      "[ 0]])]\n",
      "rank of a : 3\n",
      "Matrix([[1, 3, 0, 3, 0], [0, 0, 1, -1, 0], [0, 0, 0, 0, 1], [0, 0, 0, 0, 0]])\n",
      "(0, 2, 4)\n",
      "3\n",
      "\n",
      "Row Space: \n",
      " [[1 3 0 3 0]\n",
      " [0 0 1 -1 0]\n",
      " [0 0 0 0 1]]\n",
      "\n",
      "Column Space: \n",
      " [[1 4 2]\n",
      " [2 6 -3]\n",
      " [3 3 -3]\n",
      " [3 0 0]]\n"
     ]
    }
   ],
   "source": [
    "#assignment 3,2\n",
    "from sympy import Matrix\n",
    "import numpy as np\n",
    "A = ([[1,3,4,-1,2],[2,6,6,0,-3],[3,9,3,6,-3],[3,9,0,9,0]])\n",
    "A = Matrix(A)\n",
    "A * A.nullspace()[0]\n",
    "\n",
    "\n",
    "print(\"\\nNull Space: \\n\",A.nullspace())\n",
    "B = ([[1,3,4,-1,2],[2,6,6,0,-3],[3,9,3,6,-3],[3,9,0,9,0]])\n",
    "c =  np.linalg.matrix_rank(B)\n",
    "print(\"rank of a :\",c)\n",
    "B,i = sym.Matrix(A).rref()\n",
    "print(B)\n",
    "print(i)\n",
    "print(len(i))\n",
    "\n",
    "# Row Space of A\n",
    "R = np.array(B)\n",
    "print(\"\\nRow Space: \\n\",R[:len(i),:])\n",
    "\n",
    "# Column space of A\n",
    "C = np.array(A)\n",
    "print(\"\\nColumn Space: \\n\",C[:,i])"
   ]
  },
  {
   "cell_type": "code",
   "execution_count": 36,
   "metadata": {},
   "outputs": [
    {
     "name": "stdout",
     "output_type": "stream",
     "text": [
      "\n",
      "Null Space: \n",
      " [Matrix([\n",
      "[3],\n",
      "[0],\n",
      "[1],\n",
      "[0],\n",
      "[0],\n",
      "[0]]), Matrix([\n",
      "[ 0],\n",
      "[-1],\n",
      "[ 0],\n",
      "[ 1],\n",
      "[ 0],\n",
      "[ 0]]), Matrix([\n",
      "[-3],\n",
      "[ 0],\n",
      "[ 0],\n",
      "[ 0],\n",
      "[ 0],\n",
      "[ 1]])]\n",
      "rank of a : 3\n",
      "Matrix([[1, 0, -3, 0, 0, 3], [0, 1, 0, 1, 0, 0], [0, 0, 0, 0, 1, 0], [0, 0, 0, 0, 0, 0]])\n",
      "(0, 1, 4)\n",
      "3\n",
      "\n",
      "Row Space: \n",
      " [[1 0 -3 0 0 3]\n",
      " [0 1 0 1 0 0]\n",
      " [0 0 0 0 1 0]]\n",
      "\n",
      "Column Space: \n",
      " [[2 6 3]\n",
      " [-2 -3 0]\n",
      " [4 9 3]\n",
      " [-2 3 3]]\n"
     ]
    }
   ],
   "source": [
    "#assignment 3,3\n",
    "from sympy import Matrix\n",
    "import numpy as np\n",
    "A = ([[2,6,-6,6,3,6],[-2,-3,6,-3,0,-6],[4,9,-12,9,3,12],[-2,3,6,3,3,-6]])\n",
    "A = Matrix(A)\n",
    "A * A.nullspace()[0]\n",
    "\n",
    "\n",
    "print(\"\\nNull Space: \\n\",A.nullspace())\n",
    "B =  ([[2,6,-6,6,3,6],[-2,-3,6,-3,0,-6],[4,9,-12,9,3,12],[-2,3,6,3,3,-6]])\n",
    "c =  np.linalg.matrix_rank(B)\n",
    "print(\"rank of a :\",c)\n",
    "B,i = sym.Matrix(A).rref()\n",
    "print(B)\n",
    "print(i)\n",
    "print(len(i))\n",
    "\n",
    "# Row Space of A\n",
    "R = np.array(B)\n",
    "print(\"\\nRow Space: \\n\",R[:len(i),:])\n",
    "\n",
    "# Column space of A\n",
    "C = np.array(A)\n",
    "print(\"\\nColumn Space: \\n\",C[:,i])\n"
   ]
  },
  {
   "cell_type": "code",
   "execution_count": 31,
   "metadata": {},
   "outputs": [
    {
     "name": "stdout",
     "output_type": "stream",
     "text": [
      "Array is : [[1 0]\n",
      " [0 5]]\n",
      "Eigen value is : [1. 5.]\n",
      "Eigen vector is : [[1. 0.]\n",
      " [0. 1.]]\n"
     ]
    }
   ],
   "source": [
    "import numpy as np\n",
    "from numpy import linalg as lialg\n",
    "\n",
    "A = np.array([[6, 1, 1],\n",
    "[4, -2, 5],\n",
    "[2, 8, 7]])\n",
    "# Creating an array\n",
    "a = np.array([[1, 0], [0, 5]])\n",
    "print(\"Array is :\",a)\n",
    "# calculating an eigen value\n",
    "# using eigh() function\n",
    "c, d = lialg.eig(a)\n",
    "print(\"Eigen value is :\", c)\n",
    "print(\"Eigen vector is :\", d)"
   ]
  },
  {
   "cell_type": "code",
   "execution_count": 34,
   "metadata": {},
   "outputs": [
    {
     "name": "stdout",
     "output_type": "stream",
     "text": [
      "\n",
      "Trace of A: 11\n",
      "\n",
      "Determinant of A: -306.0\n"
     ]
    }
   ],
   "source": [
    "\n",
    "    \n",
    "# Trace of a matrix\n",
    "# numpy.trace() method\n",
    "import numpy as np\n",
    "A = np.array([[6, 1, 1],\n",
    "[4, -2, 5],\n",
    "[2, 8, 7]])\n",
    "\n",
    "print(\"\\nTrace of A:\", np.trace(A))\n",
    "\n",
    "    \n",
    "# Determinant\n",
    "# numpy.linalg.det() method\n",
    "import numpy as np\n",
    "A = np.array([[6, 1, 1],\n",
    "[4, -2, 5],\n",
    "[2, 8, 7]])\n",
    "\n",
    "print(\"\\nDeterminant of A:\"\n",
    ", np.linalg.det(A))\n"
   ]
  },
  {
   "cell_type": "code",
   "execution_count": 2,
   "metadata": {},
   "outputs": [
    {
     "name": "stdout",
     "output_type": "stream",
     "text": [
      "\n",
      "Determinant of A: -306.0\n",
      "rank of matrix :  3\n"
     ]
    }
   ],
   "source": [
    "# Determinant\n",
    "# numpy.linalg.det() method\n",
    "import numpy as np\n",
    "A = np.array([[6, 1, 1],\n",
    "[4, -2, 5],\n",
    "[2, 8, 7]])\n",
    "C = np.linalg.matrix_rank(A)\n",
    "print(\"\\nDeterminant of A:\", np.linalg.det(A))\n",
    "print(\"rank of matrix : \",C)"
   ]
  },
  {
   "cell_type": "code",
   "execution_count": null,
   "metadata": {},
   "outputs": [],
   "source": [
    "# Solving equations Ax = b\n",
    "# numpy.linalg.solve() method\n",
    "import numpy as np\n",
    "A = np.array([[-1,3,2], [1,2,-3],[2,1,-2]])\n",
    "b = np.array([1, -9,-3])\n",
    "print((\"Solution of linear equations:\",\n",
    "np.linalg.solve(A, b)))"
   ]
  }
 ],
 "metadata": {
  "kernelspec": {
   "display_name": "Python 3",
   "language": "python",
   "name": "python3"
  },
  "language_info": {
   "codemirror_mode": {
    "name": "ipython",
    "version": 3
   },
   "file_extension": ".py",
   "mimetype": "text/x-python",
   "name": "python",
   "nbconvert_exporter": "python",
   "pygments_lexer": "ipython3",
   "version": "3.8.5"
  }
 },
 "nbformat": 4,
 "nbformat_minor": 4
}
