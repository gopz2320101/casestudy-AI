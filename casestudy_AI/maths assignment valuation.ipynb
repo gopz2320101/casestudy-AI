{
 "cells": [
  {
   "cell_type": "code",
   "execution_count": 14,
   "metadata": {},
   "outputs": [],
   "source": [
    "#1 \n",
    "\n",
    "tuple_ = (\"aman\",\"222\",777,404.4)"
   ]
  },
  {
   "cell_type": "code",
   "execution_count": 2,
   "metadata": {},
   "outputs": [
    {
     "name": "stdout",
     "output_type": "stream",
     "text": [
      "{'roll no': 20, 'lastname': 'krishnan', 'firstname': 'gopi', 'dateofbirth': 25051996}\n"
     ]
    }
   ],
   "source": [
    "dictionary_ = {\"roll no\":20,\"lastname\":'krishnan' ,\"firstname\":'gopi',\"dateofbirth\":25051996}\n",
    "print(dictionary_)"
   ]
  },
  {
   "cell_type": "code",
   "execution_count": 9,
   "metadata": {},
   "outputs": [
    {
     "name": "stdout",
     "output_type": "stream",
     "text": [
      "dict_keys(['roll no', 'lastname', 'firstname', 'dateofbirth'])\n",
      "dict_values([20, 'krishnan', 'gopi', 25051996])\n"
     ]
    }
   ],
   "source": [
    "print(dictionary_.keys())\n",
    "print(dictionary_.values())"
   ]
  },
  {
   "cell_type": "code",
   "execution_count": 7,
   "metadata": {},
   "outputs": [
    {
     "name": "stdout",
     "output_type": "stream",
     "text": [
      "[[ 0.38789262 -0.39534755]\n",
      " [-0.41011262  0.08787217]]\n"
     ]
    }
   ],
   "source": [
    "#3 \n",
    "import numpy as np\n",
    "a = np.random.randn(2,2)\n",
    "print(a)"
   ]
  },
  {
   "cell_type": "code",
   "execution_count": 15,
   "metadata": {},
   "outputs": [
    {
     "name": "stdout",
     "output_type": "stream",
     "text": [
      "None\n"
     ]
    }
   ],
   "source": [
    "#4 \n",
    "import numpy as np\n",
    "a=np.random.seed()\n",
    "print(a)\n"
   ]
  },
  {
   "cell_type": "code",
   "execution_count": 12,
   "metadata": {},
   "outputs": [
    {
     "data": {
      "text/plain": [
       "1234"
      ]
     },
     "execution_count": 12,
     "metadata": {},
     "output_type": "execute_result"
    }
   ],
   "source": [
    "abs(-1234)"
   ]
  },
  {
   "cell_type": "code",
   "execution_count": 13,
   "metadata": {},
   "outputs": [
    {
     "data": {
      "text/plain": [
       "24"
      ]
     },
     "execution_count": 13,
     "metadata": {},
     "output_type": "execute_result"
    }
   ],
   "source": [
    "#5\n",
    "import numpy as np\n",
    "np.random.randint(20,90)"
   ]
  },
  {
   "cell_type": "code",
   "execution_count": 28,
   "metadata": {},
   "outputs": [
    {
     "data": {
      "text/plain": [
       "[11, 13, 15]"
      ]
     },
     "execution_count": 28,
     "metadata": {},
     "output_type": "execute_result"
    }
   ],
   "source": [
    "#6\n",
    "import numpy as np\n",
    "import random\n",
    "list_ = [11,12,13,14,15]\n",
    "random.sample([11,12,13,14,15],3)\n",
    "\n"
   ]
  },
  {
   "cell_type": "code",
   "execution_count": 29,
   "metadata": {},
   "outputs": [
    {
     "name": "stdout",
     "output_type": "stream",
     "text": [
      "[11, 14, 12, 13, 15]\n"
     ]
    }
   ],
   "source": [
    "np.random.shuffle(list_)\n",
    "print(list_)"
   ]
  },
  {
   "cell_type": "code",
   "execution_count": 30,
   "metadata": {},
   "outputs": [
    {
     "name": "stdout",
     "output_type": "stream",
     "text": [
      "13\n"
     ]
    }
   ],
   "source": [
    "print(np.random.choice(list_))"
   ]
  },
  {
   "cell_type": "code",
   "execution_count": 31,
   "metadata": {},
   "outputs": [
    {
     "name": "stdout",
     "output_type": "stream",
     "text": [
      "the king is dead , long live the king\n"
     ]
    }
   ],
   "source": [
    "#7\n",
    "txt = \"the king is dead , long live the king\"\n",
    "\n",
    "fp = open(\"testfiles.txt\", \"w\")\n",
    "fp.write(txt)\n",
    "fp.close()\n",
    "\n",
    "fp = open(\"testfiles.txt\",\"r\")\n",
    "print(fp.read())"
   ]
  },
  {
   "cell_type": "code",
   "execution_count": 33,
   "metadata": {},
   "outputs": [
    {
     "name": "stdout",
     "output_type": "stream",
     "text": [
      "element present\n"
     ]
    }
   ],
   "source": [
    "#8\n",
    "\n",
    "def check(num):\n",
    "    bool = False\n",
    "    if num == 0:\n",
    "        print(\"element is zero\")\n",
    "    else:\n",
    "        print(\"element present\")\n",
    "        \n",
    "check(9)        "
   ]
  },
  {
   "cell_type": "code",
   "execution_count": 34,
   "metadata": {},
   "outputs": [
    {
     "name": "stdout",
     "output_type": "stream",
     "text": [
      "the king is dead , long live the king\n",
      "first chara: t\n"
     ]
    }
   ],
   "source": [
    "#9\n",
    "txt = \"the king is dead , long live the king\"\n",
    "print(txt)\n",
    "    \n",
    "print(\"first chara:\",txt[0])\n"
   ]
  },
  {
   "cell_type": "code",
   "execution_count": 35,
   "metadata": {},
   "outputs": [
    {
     "name": "stdout",
     "output_type": "stream",
     "text": [
      "character from 3 to 5 : e k\n"
     ]
    }
   ],
   "source": [
    "print(\"character from 3 to 5 :\",txt[2:5])"
   ]
  },
  {
   "cell_type": "code",
   "execution_count": 36,
   "metadata": {},
   "outputs": [
    {
     "name": "stdout",
     "output_type": "stream",
     "text": [
      "character from 2 : e king is dead , long live the king\n"
     ]
    }
   ],
   "source": [
    "print(\"character from 2 :\",txt[2:])"
   ]
  },
  {
   "cell_type": "code",
   "execution_count": 37,
   "metadata": {},
   "outputs": [
    {
     "name": "stdout",
     "output_type": "stream",
     "text": [
      "['the', 'king', 'is', 'dead', ',', 'long', 'live', 'the', 'king']\n"
     ]
    }
   ],
   "source": [
    "sp = txt.split()\n",
    "print(sp)"
   ]
  },
  {
   "cell_type": "code",
   "execution_count": 38,
   "metadata": {},
   "outputs": [
    {
     "name": "stdout",
     "output_type": "stream",
     "text": [
      "first two elements  [1, 2]\n"
     ]
    }
   ],
   "source": [
    "#10\n",
    "listt=[1,2,3,4,5]\n",
    "print(\"first two elements \",listt[0:2])"
   ]
  },
  {
   "cell_type": "code",
   "execution_count": 39,
   "metadata": {},
   "outputs": [
    {
     "name": "stdout",
     "output_type": "stream",
     "text": [
      "[[1 2 3]\n",
      " [4 5 6]]\n"
     ]
    }
   ],
   "source": [
    "\n",
    "#11\n",
    "import numpy as np\n",
    "arr = np.array([[1,2,3],[4,5,6]])\n",
    "print(arr)"
   ]
  },
  {
   "cell_type": "code",
   "execution_count": 40,
   "metadata": {},
   "outputs": [
    {
     "name": "stdout",
     "output_type": "stream",
     "text": [
      "2\n"
     ]
    }
   ],
   "source": [
    "#12\n",
    "a= len(arr)\n",
    "print(a)"
   ]
  },
  {
   "cell_type": "code",
   "execution_count": 41,
   "metadata": {},
   "outputs": [
    {
     "name": "stdout",
     "output_type": "stream",
     "text": [
      "second row [4 5 6]\n"
     ]
    }
   ],
   "source": [
    "arr = np.array([[1,2,3],[4,5,6]])\n",
    "print(\"second row\",arr[1,:])"
   ]
  },
  {
   "cell_type": "code",
   "execution_count": 42,
   "metadata": {},
   "outputs": [
    {
     "name": "stdout",
     "output_type": "stream",
     "text": [
      "[[1 4]\n",
      " [2 5]\n",
      " [3 6]]\n"
     ]
    }
   ],
   "source": [
    "c = np.transpose(arr)\n",
    "print(c)"
   ]
  },
  {
   "cell_type": "code",
   "execution_count": 43,
   "metadata": {},
   "outputs": [
    {
     "name": "stdout",
     "output_type": "stream",
     "text": [
      "length of array  6\n"
     ]
    }
   ],
   "source": [
    "len_ = np.shape(arr)\n",
    "print(\"length of array \",len_[0]*len_[1])"
   ]
  },
  {
   "cell_type": "code",
   "execution_count": 44,
   "metadata": {},
   "outputs": [
    {
     "name": "stdout",
     "output_type": "stream",
     "text": [
      "2 5\n"
     ]
    }
   ],
   "source": [
    "print(arr[0,1],arr[1,1])"
   ]
  },
  {
   "cell_type": "code",
   "execution_count": 48,
   "metadata": {},
   "outputs": [
    {
     "name": "stdout",
     "output_type": "stream",
     "text": [
      "second row [4 5 6]\n"
     ]
    }
   ],
   "source": [
    "#14 \n",
    "\n",
    "array = np.array([[1,2,3],[4,5,6]])\n",
    "print(\"second row\",array[1])\n"
   ]
  },
  {
   "cell_type": "code",
   "execution_count": 49,
   "metadata": {},
   "outputs": [
    {
     "name": "stdout",
     "output_type": "stream",
     "text": [
      "[[1 4]\n",
      " [2 5]\n",
      " [3 6]]\n"
     ]
    }
   ],
   "source": [
    "print(array.T)"
   ]
  },
  {
   "cell_type": "code",
   "execution_count": 50,
   "metadata": {},
   "outputs": [
    {
     "name": "stdout",
     "output_type": "stream",
     "text": [
      "6\n"
     ]
    }
   ],
   "source": [
    "print(array.size)"
   ]
  },
  {
   "cell_type": "code",
   "execution_count": 51,
   "metadata": {},
   "outputs": [
    {
     "data": {
      "text/plain": [
       "array([0, 1, 2, 3, 4, 5, 6, 7, 8, 9])"
      ]
     },
     "execution_count": 51,
     "metadata": {},
     "output_type": "execute_result"
    }
   ],
   "source": [
    "#13\n",
    "array1 = np.arange(0,10)\n",
    "array1"
   ]
  },
  {
   "cell_type": "code",
   "execution_count": 52,
   "metadata": {},
   "outputs": [
    {
     "name": "stdout",
     "output_type": "stream",
     "text": [
      "[[0 1]\n",
      " [2 3]\n",
      " [4 5]\n",
      " [6 7]\n",
      " [8 9]]\n"
     ]
    }
   ],
   "source": [
    "print(array1.reshape(5,2))"
   ]
  },
  {
   "cell_type": "code",
   "execution_count": 54,
   "metadata": {},
   "outputs": [
    {
     "data": {
      "text/plain": [
       "array([9, 9, 9])"
      ]
     },
     "execution_count": 54,
     "metadata": {},
     "output_type": "execute_result"
    }
   ],
   "source": [
    "#15\n",
    "\n",
    "arr = np.array([1,2,3])\n",
    "\n",
    "for i in range(0,arr.size):\n",
    "    arr[i]=9\n",
    "    \n",
    "arr    "
   ]
  },
  {
   "cell_type": "code",
   "execution_count": 60,
   "metadata": {},
   "outputs": [
    {
     "name": "stdout",
     "output_type": "stream",
     "text": [
      "6\n"
     ]
    }
   ],
   "source": [
    "\n",
    "import numpy as np\n",
    "arr = np.array([1,2,3])\n",
    "               \n",
    "\n",
    "  \n",
    "               \n",
    "print(np.sum(arr))               \n",
    "               "
   ]
  },
  {
   "cell_type": "code",
   "execution_count": 62,
   "metadata": {},
   "outputs": [
    {
     "name": "stdout",
     "output_type": "stream",
     "text": [
      "product 427350\n"
     ]
    }
   ],
   "source": [
    "#17 \n",
    "import numpy as np\n",
    "a = np.array([77,74,75])\n",
    "print(\"product\",np.product(a))\n"
   ]
  },
  {
   "cell_type": "code",
   "execution_count": 63,
   "metadata": {},
   "outputs": [
    {
     "name": "stdout",
     "output_type": "stream",
     "text": [
      "mean 13.416666666666666\n",
      "variance: 386.0763888888889\n",
      "min 1\n",
      "arg min 1\n",
      "arg max 11\n",
      "standerd deviation 19.648826654253146\n"
     ]
    }
   ],
   "source": [
    "#18\n",
    "\n",
    "ar=np.array([2,1,9,2,22,1,1,4,55,6,2,56])\n",
    "print(\"mean\",np.mean(ar))\n",
    "print(\"variance:\",np.var(ar))\n",
    "print(\"min\",np.min(ar))\n",
    "print(\"arg min\",np.argmin(ar))\n",
    "print(\"arg max\",np.argmax(ar))\n",
    "print(\"standerd deviation\",np.std(ar))"
   ]
  },
  {
   "cell_type": "code",
   "execution_count": 64,
   "metadata": {},
   "outputs": [
    {
     "name": "stdout",
     "output_type": "stream",
     "text": [
      "[1 4 5 7]\n",
      "[1 1 4 5 5 5 7]\n"
     ]
    }
   ],
   "source": [
    "#19 \n",
    "\n",
    "a = np.array([1,1,4,5,5,5,7])\n",
    "print(np.unique(a))\n",
    "print(np.sort(a))"
   ]
  },
  {
   "cell_type": "code",
   "execution_count": 65,
   "metadata": {},
   "outputs": [
    {
     "name": "stdout",
     "output_type": "stream",
     "text": [
      "dotproduct= 5\n"
     ]
    }
   ],
   "source": [
    "#20\n",
    "u=[1,2,3]\n",
    "v=[0,1,1]\n",
    "print(\"dotproduct=\",np.dot(u,v))"
   ]
  },
  {
   "cell_type": "code",
   "execution_count": 70,
   "metadata": {},
   "outputs": [
    {
     "name": "stdout",
     "output_type": "stream",
     "text": [
      "[-1. -2.] [[0.9701425  0.9486833 ]\n",
      " [0.24253563 0.31622777]]\n"
     ]
    }
   ],
   "source": [
    "# 21 \n",
    "import numpy as np\n",
    "arr=([[2,-12],[1,-5]])\n",
    "c,v =np.linalg.eig(arr)  \n",
    "print(c,v)"
   ]
  },
  {
   "cell_type": "code",
   "execution_count": 71,
   "metadata": {},
   "outputs": [],
   "source": [
    "#22 correlation\n",
    "\n",
    "\n",
    "arr1=[11,22,11,31]\n",
    "arr2=[25,33,31,28]\n",
    "r=np.corrcoef(arr1,arr2)"
   ]
  },
  {
   "cell_type": "code",
   "execution_count": 72,
   "metadata": {},
   "outputs": [
    {
     "name": "stdout",
     "output_type": "stream",
     "text": [
      "correlation coefficient: [[1.         0.15997968]\n",
      " [0.15997968 1.        ]]\n"
     ]
    }
   ],
   "source": [
    "print(\"correlation coefficient:\",r)"
   ]
  },
  {
   "cell_type": "code",
   "execution_count": null,
   "metadata": {},
   "outputs": [],
   "source": []
  }
 ],
 "metadata": {
  "kernelspec": {
   "display_name": "Python 3",
   "language": "python",
   "name": "python3"
  },
  "language_info": {
   "codemirror_mode": {
    "name": "ipython",
    "version": 3
   },
   "file_extension": ".py",
   "mimetype": "text/x-python",
   "name": "python",
   "nbconvert_exporter": "python",
   "pygments_lexer": "ipython3",
   "version": "3.8.5"
  }
 },
 "nbformat": 4,
 "nbformat_minor": 4
}
