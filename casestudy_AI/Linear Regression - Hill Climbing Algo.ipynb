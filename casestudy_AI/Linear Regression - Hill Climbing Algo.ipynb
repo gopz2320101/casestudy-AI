{
 "cells": [
  {
   "cell_type": "code",
   "execution_count": 6,
   "metadata": {},
   "outputs": [],
   "source": [
    "import pandas as pd\n",
    "from random import uniform, normalvariate, randint\n",
    "import numpy as np\n",
    "import seaborn as sns\n",
    "import matplotlib.pyplot as plt\n",
    "\n"
   ]
  },
  {
   "cell_type": "code",
   "execution_count": 7,
   "metadata": {},
   "outputs": [],
   "source": [
    "# Generate random data for equation 4x + 5\n",
    "\n",
    "def f(x):\n",
    "    return 4*x + 5"
   ]
  },
  {
   "cell_type": "code",
   "execution_count": 8,
   "metadata": {},
   "outputs": [],
   "source": [
    "data = pd.DataFrame(columns=[\"x\",\"y\"])"
   ]
  },
  {
   "cell_type": "code",
   "execution_count": 9,
   "metadata": {},
   "outputs": [],
   "source": [
    "#Generate 1000 data points\n",
    "\n",
    "for i in range(1000):\n",
    "    x_axis = round(uniform(1,10),2)\n",
    "    y_axis = f(x_axis)\n",
    "    ydash_axis = y_axis + normalvariate(12,2)\n",
    "    data = data.append(pd.DataFrame(columns=[\"x\",\"y\"], data=[[x_axis, ydash_axis]]))"
   ]
  },
  {
   "cell_type": "code",
   "execution_count": 10,
   "metadata": {},
   "outputs": [
    {
     "data": {
      "text/html": [
       "<div>\n",
       "<style scoped>\n",
       "    .dataframe tbody tr th:only-of-type {\n",
       "        vertical-align: middle;\n",
       "    }\n",
       "\n",
       "    .dataframe tbody tr th {\n",
       "        vertical-align: top;\n",
       "    }\n",
       "\n",
       "    .dataframe thead th {\n",
       "        text-align: right;\n",
       "    }\n",
       "</style>\n",
       "<table border=\"1\" class=\"dataframe\">\n",
       "  <thead>\n",
       "    <tr style=\"text-align: right;\">\n",
       "      <th></th>\n",
       "      <th>x</th>\n",
       "      <th>y</th>\n",
       "    </tr>\n",
       "  </thead>\n",
       "  <tbody>\n",
       "    <tr>\n",
       "      <th>0</th>\n",
       "      <td>3.91</td>\n",
       "      <td>32.271378</td>\n",
       "    </tr>\n",
       "    <tr>\n",
       "      <th>0</th>\n",
       "      <td>3.45</td>\n",
       "      <td>32.115444</td>\n",
       "    </tr>\n",
       "    <tr>\n",
       "      <th>0</th>\n",
       "      <td>6.01</td>\n",
       "      <td>39.979591</td>\n",
       "    </tr>\n",
       "    <tr>\n",
       "      <th>0</th>\n",
       "      <td>4.65</td>\n",
       "      <td>34.273345</td>\n",
       "    </tr>\n",
       "    <tr>\n",
       "      <th>0</th>\n",
       "      <td>9.85</td>\n",
       "      <td>55.591528</td>\n",
       "    </tr>\n",
       "  </tbody>\n",
       "</table>\n",
       "</div>"
      ],
      "text/plain": [
       "      x          y\n",
       "0  3.91  32.271378\n",
       "0  3.45  32.115444\n",
       "0  6.01  39.979591\n",
       "0  4.65  34.273345\n",
       "0  9.85  55.591528"
      ]
     },
     "execution_count": 10,
     "metadata": {},
     "output_type": "execute_result"
    }
   ],
   "source": [
    "data.head(5)"
   ]
  },
  {
   "cell_type": "code",
   "execution_count": 11,
   "metadata": {},
   "outputs": [],
   "source": [
    "# Get input data\n",
    "X = data.iloc[:, 0]\n",
    "Y = data.iloc[:, 1]"
   ]
  },
  {
   "cell_type": "code",
   "execution_count": 12,
   "metadata": {},
   "outputs": [],
   "source": [
    "# Build the model using hill climbing optimization technique\n",
    "# Linear equation to be formed is y = mx + b\n",
    "m = 0\n",
    "b = 0"
   ]
  },
  {
   "cell_type": "code",
   "execution_count": 13,
   "metadata": {},
   "outputs": [],
   "source": [
    "epochs = 40000 # number of iterations\n",
    "n = float(len(X))  # Number of elements in X\n",
    "best_loss = 10000000000000.0  # Initialize with a really large value"
   ]
  },
  {
   "cell_type": "code",
   "execution_count": 14,
   "metadata": {},
   "outputs": [
    {
     "name": "stdout",
     "output_type": "stream",
     "text": [
      "0.14545133844859362 0.7315228264663929\n",
      "3.984726797813373 17.130548790819624\n",
      "4.005431419264514 17.009405593685507\n",
      "4.005431419264514 17.009405593685507\n",
      "4.005431419264514 17.009405593685507\n",
      "4.005431419264514 17.009405593685507\n",
      "4.005431419264514 17.009405593685507\n",
      "4.005431419264514 17.009405593685507\n",
      "4.005431419264514 17.009405593685507\n",
      "4.005431419264514 17.009405593685507\n",
      "4.005431419264514 17.009405593685507\n",
      "4.005771531877979 17.06067490583942\n",
      "4.005771531877979 17.06067490583942\n",
      "4.005771531877979 17.06067490583942\n",
      "4.005771531877979 17.06067490583942\n",
      "4.005771531877979 17.06067490583942\n",
      "4.005771531877979 17.06067490583942\n",
      "4.005771531877979 17.06067490583942\n",
      "4.005771531877979 17.06067490583942\n",
      "4.005771531877979 17.06067490583942\n",
      "4.005771531877979 17.06067490583942\n",
      "4.001209930139417 17.08535291281293\n",
      "4.001209930139417 17.08535291281293\n",
      "4.001209930139417 17.08535291281293\n",
      "4.001209930139417 17.08535291281293\n",
      "4.001209930139417 17.08535291281293\n",
      "4.001209930139417 17.08535291281293\n",
      "4.001209930139417 17.08535291281293\n",
      "4.001209930139417 17.08535291281293\n",
      "4.001209930139417 17.08535291281293\n",
      "4.001209930139417 17.08535291281293\n",
      "4.001209930139417 17.08535291281293\n",
      "4.001209930139417 17.08535291281293\n",
      "4.001209930139417 17.08535291281293\n",
      "4.002893184324542 17.07140360727324\n",
      "4.002893184324542 17.07140360727324\n",
      "4.002893184324542 17.07140360727324\n",
      "4.002893184324542 17.07140360727324\n",
      "4.002893184324542 17.07140360727324\n",
      "4.002893184324542 17.07140360727324\n",
      "4.0054262354837284 17.049068399843797\n"
     ]
    }
   ],
   "source": [
    "for i in range(epochs):\n",
    "    #Perform hill climbing\n",
    "    \n",
    "    m_adjust = normalvariate(0, 1)\n",
    "    b_adjust = normalvariate(0, 1)\n",
    "    \n",
    "    m += m_adjust\n",
    "    b += b_adjust\n",
    "    \n",
    "    #Calculate loss\n",
    "    new_loss = 1/n * sum((Y - (m*X + b))**2)\n",
    "\n",
    "     # If loss has improved, keep new values. Otherwise revert.\n",
    "    if new_loss < best_loss:\n",
    "        best_loss = new_loss\n",
    "    else:\n",
    "        m -= m_adjust\n",
    "        b -= b_adjust\n",
    "\n",
    "    if i % 1000 == 0:\n",
    "        print(m, b)\n",
    "    \n",
    "print(m,b)"
   ]
  },
  {
   "cell_type": "code",
   "execution_count": 15,
   "metadata": {},
   "outputs": [
    {
     "data": {
      "text/plain": [
       "38.00985767114176"
      ]
     },
     "execution_count": 15,
     "metadata": {},
     "output_type": "execute_result"
    }
   ],
   "source": [
    "5.25*3.959888369313459 + 17.220443732246096"
   ]
  },
  {
   "cell_type": "code",
   "execution_count": 16,
   "metadata": {},
   "outputs": [
    {
     "data": {
      "image/png": "[encoded data removed]",
      "text/plain": [
       "<Figure size 432x288 with 1 Axes>"
      ]
     },
     "metadata": {
      "needs_background": "light"
     },
     "output_type": "display_data"
    }
   ],
   "source": [
    "#Plot training data\n",
    "sns.regplot(x=\"x\", y=\"y\", data=data)\n",
    "\n",
    "#Plot model\n",
    "x = np.linspace(0,10,num=100)\n",
    "y = m*x+b\n",
    "plt.plot(x, y, 'r', label='y=mx+b')\n",
    "plt.title('Graph of y=mx+b')\n",
    "plt.xlabel('x')\n",
    "plt.ylabel('y')\n",
    "plt.legend(loc='upper left')\n",
    "plt.grid()\n",
    "\n",
    "plt.show()"
   ]
  },
  {
   "cell_type": "code",
   "execution_count": null,
   "metadata": {},
   "outputs": [],
   "source": []
  }
 ],
 "metadata": {
  "kernelspec": {
   "display_name": "Python 3",
   "language": "python",
   "name": "python3"
  },
  "language_info": {
   "codemirror_mode": {
    "name": "ipython",
    "version": 3
   },
   "file_extension": ".py",
   "mimetype": "text/x-python",
   "name": "python",
   "nbconvert_exporter": "python",
   "pygments_lexer": "ipython3",
   "version": "3.8.5"
  }
 },
 "nbformat": 4,
 "nbformat_minor": 2
}
