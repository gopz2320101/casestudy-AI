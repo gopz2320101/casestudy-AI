{
 "cells": [
  {
   "cell_type": "markdown",
   "metadata": {},
   "source": [
    "# covid 19 Clustering."
   ]
  },
  {
   "cell_type": "code",
   "execution_count": 1,
   "metadata": {},
   "outputs": [],
   "source": [
    "#CLUSTERING AND PCA ON COVID DATE GOPIKRISHNAN C P ROLL NO 20\n",
    "import pandas as pd\n",
    "import numpy as np\n",
    "import matplotlib.pyplot as plt\n",
    "import datetime as dt"
   ]
  },
  {
   "cell_type": "code",
   "execution_count": 2,
   "metadata": {},
   "outputs": [
    {
     "data": {
      "text/html": [
       "<div>\n",
       "<style scoped>\n",
       "    .dataframe tbody tr th:only-of-type {\n",
       "        vertical-align: middle;\n",
       "    }\n",
       "\n",
       "    .dataframe tbody tr th {\n",
       "        vertical-align: top;\n",
       "    }\n",
       "\n",
       "    .dataframe thead th {\n",
       "        text-align: right;\n",
       "    }\n",
       "</style>\n",
       "<table border=\"1\" class=\"dataframe\">\n",
       "  <thead>\n",
       "    <tr style=\"text-align: right;\">\n",
       "      <th></th>\n",
       "      <th>Sno</th>\n",
       "      <th>Date</th>\n",
       "      <th>Time</th>\n",
       "      <th>State/UnionTerritory</th>\n",
       "      <th>ConfirmedIndianNational</th>\n",
       "      <th>ConfirmedForeignNational</th>\n",
       "      <th>Cured</th>\n",
       "      <th>Deaths</th>\n",
       "      <th>Confirmed</th>\n",
       "    </tr>\n",
       "  </thead>\n",
       "  <tbody>\n",
       "    <tr>\n",
       "      <th>0</th>\n",
       "      <td>1</td>\n",
       "      <td>30/01/20</td>\n",
       "      <td>6:00 PM</td>\n",
       "      <td>Kerala</td>\n",
       "      <td>1</td>\n",
       "      <td>0</td>\n",
       "      <td>0</td>\n",
       "      <td>0</td>\n",
       "      <td>1</td>\n",
       "    </tr>\n",
       "    <tr>\n",
       "      <th>1</th>\n",
       "      <td>2</td>\n",
       "      <td>31/01/20</td>\n",
       "      <td>6:00 PM</td>\n",
       "      <td>Kerala</td>\n",
       "      <td>1</td>\n",
       "      <td>0</td>\n",
       "      <td>0</td>\n",
       "      <td>0</td>\n",
       "      <td>1</td>\n",
       "    </tr>\n",
       "    <tr>\n",
       "      <th>2</th>\n",
       "      <td>3</td>\n",
       "      <td>01/02/20</td>\n",
       "      <td>6:00 PM</td>\n",
       "      <td>Kerala</td>\n",
       "      <td>2</td>\n",
       "      <td>0</td>\n",
       "      <td>0</td>\n",
       "      <td>0</td>\n",
       "      <td>2</td>\n",
       "    </tr>\n",
       "    <tr>\n",
       "      <th>3</th>\n",
       "      <td>4</td>\n",
       "      <td>02/02/20</td>\n",
       "      <td>6:00 PM</td>\n",
       "      <td>Kerala</td>\n",
       "      <td>3</td>\n",
       "      <td>0</td>\n",
       "      <td>0</td>\n",
       "      <td>0</td>\n",
       "      <td>3</td>\n",
       "    </tr>\n",
       "    <tr>\n",
       "      <th>4</th>\n",
       "      <td>5</td>\n",
       "      <td>03/02/20</td>\n",
       "      <td>6:00 PM</td>\n",
       "      <td>Kerala</td>\n",
       "      <td>3</td>\n",
       "      <td>0</td>\n",
       "      <td>0</td>\n",
       "      <td>0</td>\n",
       "      <td>3</td>\n",
       "    </tr>\n",
       "  </tbody>\n",
       "</table>\n",
       "</div>"
      ],
      "text/plain": [
       "   Sno      Date     Time State/UnionTerritory ConfirmedIndianNational  \\\n",
       "0    1  30/01/20  6:00 PM               Kerala                       1   \n",
       "1    2  31/01/20  6:00 PM               Kerala                       1   \n",
       "2    3  01/02/20  6:00 PM               Kerala                       2   \n",
       "3    4  02/02/20  6:00 PM               Kerala                       3   \n",
       "4    5  03/02/20  6:00 PM               Kerala                       3   \n",
       "\n",
       "  ConfirmedForeignNational  Cured  Deaths  Confirmed  \n",
       "0                        0      0       0          1  \n",
       "1                        0      0       0          1  \n",
       "2                        0      0       0          2  \n",
       "3                        0      0       0          3  \n",
       "4                        0      0       0          3  "
      ]
     },
     "execution_count": 2,
     "metadata": {},
     "output_type": "execute_result"
    }
   ],
   "source": [
    "df = pd.read_csv('covid_19_india.csv')\n",
    "df.head()"
   ]
  },
  {
   "cell_type": "code",
   "execution_count": 3,
   "metadata": {},
   "outputs": [
    {
     "name": "stdout",
     "output_type": "stream",
     "text": [
      "<class 'pandas.core.frame.DataFrame'>\n",
      "RangeIndex: 9291 entries, 0 to 9290\n",
      "Data columns (total 9 columns):\n",
      " #   Column                    Non-Null Count  Dtype \n",
      "---  ------                    --------------  ----- \n",
      " 0   Sno                       9291 non-null   int64 \n",
      " 1   Date                      9291 non-null   object\n",
      " 2   Time                      9291 non-null   object\n",
      " 3   State/UnionTerritory      9291 non-null   object\n",
      " 4   ConfirmedIndianNational   9291 non-null   object\n",
      " 5   ConfirmedForeignNational  9291 non-null   object\n",
      " 6   Cured                     9291 non-null   int64 \n",
      " 7   Deaths                    9291 non-null   int64 \n",
      " 8   Confirmed                 9291 non-null   int64 \n",
      "dtypes: int64(4), object(5)\n",
      "memory usage: 653.4+ KB\n"
     ]
    }
   ],
   "source": [
    "df.info()"
   ]
  },
  {
   "cell_type": "code",
   "execution_count": 4,
   "metadata": {},
   "outputs": [],
   "source": [
    "\n",
    "df['Date1'] = pd.to_datetime(df['Date'], format='%d/%m/%y')"
   ]
  },
  {
   "cell_type": "code",
   "execution_count": 5,
   "metadata": {},
   "outputs": [],
   "source": [
    "df=pd.DataFrame(df.groupby(\"Date1\")['Confirmed'].sum())\n",
    "df.reset_index(inplace=True)\n"
   ]
  },
  {
   "cell_type": "code",
   "execution_count": 6,
   "metadata": {},
   "outputs": [
    {
     "name": "stderr",
     "output_type": "stream",
     "text": [
      "<ipython-input-6-528cb04bd4b6>:4: FutureWarning: Series.dt.weekofyear and Series.dt.week have been deprecated.  Please use Series.dt.isocalendar().week instead.\n",
      "  df['Week'] = df['Date1'].dt.week\n"
     ]
    },
    {
     "data": {
      "text/html": [
       "<div>\n",
       "<style scoped>\n",
       "    .dataframe tbody tr th:only-of-type {\n",
       "        vertical-align: middle;\n",
       "    }\n",
       "\n",
       "    .dataframe tbody tr th {\n",
       "        vertical-align: top;\n",
       "    }\n",
       "\n",
       "    .dataframe thead th {\n",
       "        text-align: right;\n",
       "    }\n",
       "</style>\n",
       "<table border=\"1\" class=\"dataframe\">\n",
       "  <thead>\n",
       "    <tr style=\"text-align: right;\">\n",
       "      <th></th>\n",
       "      <th>Date1</th>\n",
       "      <th>Confirmed</th>\n",
       "      <th>Year</th>\n",
       "      <th>Month</th>\n",
       "      <th>Day</th>\n",
       "      <th>Week</th>\n",
       "    </tr>\n",
       "  </thead>\n",
       "  <tbody>\n",
       "    <tr>\n",
       "      <th>0</th>\n",
       "      <td>2020-01-30</td>\n",
       "      <td>1</td>\n",
       "      <td>2020</td>\n",
       "      <td>1</td>\n",
       "      <td>30</td>\n",
       "      <td>5</td>\n",
       "    </tr>\n",
       "    <tr>\n",
       "      <th>1</th>\n",
       "      <td>2020-01-31</td>\n",
       "      <td>1</td>\n",
       "      <td>2020</td>\n",
       "      <td>1</td>\n",
       "      <td>31</td>\n",
       "      <td>5</td>\n",
       "    </tr>\n",
       "    <tr>\n",
       "      <th>2</th>\n",
       "      <td>2020-02-01</td>\n",
       "      <td>2</td>\n",
       "      <td>2020</td>\n",
       "      <td>2</td>\n",
       "      <td>1</td>\n",
       "      <td>5</td>\n",
       "    </tr>\n",
       "    <tr>\n",
       "      <th>3</th>\n",
       "      <td>2020-02-02</td>\n",
       "      <td>3</td>\n",
       "      <td>2020</td>\n",
       "      <td>2</td>\n",
       "      <td>2</td>\n",
       "      <td>5</td>\n",
       "    </tr>\n",
       "    <tr>\n",
       "      <th>4</th>\n",
       "      <td>2020-02-03</td>\n",
       "      <td>3</td>\n",
       "      <td>2020</td>\n",
       "      <td>2</td>\n",
       "      <td>3</td>\n",
       "      <td>6</td>\n",
       "    </tr>\n",
       "  </tbody>\n",
       "</table>\n",
       "</div>"
      ],
      "text/plain": [
       "       Date1  Confirmed  Year  Month  Day  Week\n",
       "0 2020-01-30          1  2020      1   30     5\n",
       "1 2020-01-31          1  2020      1   31     5\n",
       "2 2020-02-01          2  2020      2    1     5\n",
       "3 2020-02-02          3  2020      2    2     5\n",
       "4 2020-02-03          3  2020      2    3     6"
      ]
     },
     "execution_count": 6,
     "metadata": {},
     "output_type": "execute_result"
    }
   ],
   "source": [
    "df['Year'] = df['Date1'].dt.year\n",
    "df['Month'] = df['Date1'].dt.month\n",
    "df['Day'] = df['Date1'].dt.day\n",
    "df['Week'] = df['Date1'].dt.week\n",
    "df.head()"
   ]
  },
  {
   "cell_type": "code",
   "execution_count": 7,
   "metadata": {},
   "outputs": [
    {
     "name": "stderr",
     "output_type": "stream",
     "text": [
      "<ipython-input-7-9301a0ac4ae7>:1: FutureWarning: Series.dt.weekofyear and Series.dt.week have been deprecated.  Please use Series.dt.isocalendar().week instead.\n",
      "  df['Weekofyear'] = df['Date1'].dt.weekofyear\n"
     ]
    },
    {
     "data": {
      "text/html": [
       "<div>\n",
       "<style scoped>\n",
       "    .dataframe tbody tr th:only-of-type {\n",
       "        vertical-align: middle;\n",
       "    }\n",
       "\n",
       "    .dataframe tbody tr th {\n",
       "        vertical-align: top;\n",
       "    }\n",
       "\n",
       "    .dataframe thead th {\n",
       "        text-align: right;\n",
       "    }\n",
       "</style>\n",
       "<table border=\"1\" class=\"dataframe\">\n",
       "  <thead>\n",
       "    <tr style=\"text-align: right;\">\n",
       "      <th></th>\n",
       "      <th>Date1</th>\n",
       "      <th>Confirmed</th>\n",
       "      <th>Year</th>\n",
       "      <th>Month</th>\n",
       "      <th>Day</th>\n",
       "      <th>Week</th>\n",
       "      <th>Weekofyear</th>\n",
       "      <th>Dayofweek</th>\n",
       "      <th>Weekday</th>\n",
       "      <th>Dayofyear</th>\n",
       "      <th>Quarter</th>\n",
       "    </tr>\n",
       "  </thead>\n",
       "  <tbody>\n",
       "    <tr>\n",
       "      <th>0</th>\n",
       "      <td>2020-01-30</td>\n",
       "      <td>1</td>\n",
       "      <td>2020</td>\n",
       "      <td>1</td>\n",
       "      <td>30</td>\n",
       "      <td>5</td>\n",
       "      <td>5</td>\n",
       "      <td>3</td>\n",
       "      <td>3</td>\n",
       "      <td>30</td>\n",
       "      <td>1</td>\n",
       "    </tr>\n",
       "    <tr>\n",
       "      <th>1</th>\n",
       "      <td>2020-01-31</td>\n",
       "      <td>1</td>\n",
       "      <td>2020</td>\n",
       "      <td>1</td>\n",
       "      <td>31</td>\n",
       "      <td>5</td>\n",
       "      <td>5</td>\n",
       "      <td>4</td>\n",
       "      <td>4</td>\n",
       "      <td>31</td>\n",
       "      <td>1</td>\n",
       "    </tr>\n",
       "    <tr>\n",
       "      <th>2</th>\n",
       "      <td>2020-02-01</td>\n",
       "      <td>2</td>\n",
       "      <td>2020</td>\n",
       "      <td>2</td>\n",
       "      <td>1</td>\n",
       "      <td>5</td>\n",
       "      <td>5</td>\n",
       "      <td>5</td>\n",
       "      <td>5</td>\n",
       "      <td>32</td>\n",
       "      <td>1</td>\n",
       "    </tr>\n",
       "    <tr>\n",
       "      <th>3</th>\n",
       "      <td>2020-02-02</td>\n",
       "      <td>3</td>\n",
       "      <td>2020</td>\n",
       "      <td>2</td>\n",
       "      <td>2</td>\n",
       "      <td>5</td>\n",
       "      <td>5</td>\n",
       "      <td>6</td>\n",
       "      <td>6</td>\n",
       "      <td>33</td>\n",
       "      <td>1</td>\n",
       "    </tr>\n",
       "    <tr>\n",
       "      <th>4</th>\n",
       "      <td>2020-02-03</td>\n",
       "      <td>3</td>\n",
       "      <td>2020</td>\n",
       "      <td>2</td>\n",
       "      <td>3</td>\n",
       "      <td>6</td>\n",
       "      <td>6</td>\n",
       "      <td>0</td>\n",
       "      <td>0</td>\n",
       "      <td>34</td>\n",
       "      <td>1</td>\n",
       "    </tr>\n",
       "  </tbody>\n",
       "</table>\n",
       "</div>"
      ],
      "text/plain": [
       "       Date1  Confirmed  Year  Month  Day  Week  Weekofyear  Dayofweek  \\\n",
       "0 2020-01-30          1  2020      1   30     5           5          3   \n",
       "1 2020-01-31          1  2020      1   31     5           5          4   \n",
       "2 2020-02-01          2  2020      2    1     5           5          5   \n",
       "3 2020-02-02          3  2020      2    2     5           5          6   \n",
       "4 2020-02-03          3  2020      2    3     6           6          0   \n",
       "\n",
       "   Weekday  Dayofyear  Quarter  \n",
       "0        3         30        1  \n",
       "1        4         31        1  \n",
       "2        5         32        1  \n",
       "3        6         33        1  \n",
       "4        0         34        1  "
      ]
     },
     "execution_count": 7,
     "metadata": {},
     "output_type": "execute_result"
    }
   ],
   "source": [
    "\n",
    "df['Weekofyear'] = df['Date1'].dt.weekofyear\n",
    "df['Dayofweek'] = df['Date1'].dt.dayofweek\n",
    "df['Weekday'] = df['Date1'].dt.weekday\n",
    "df['Dayofyear'] = df['Date1'].dt.dayofyear\n",
    "df['Quarter'] = df['Date1'].dt.quarter\n",
    "df.head()\n"
   ]
  },
  {
   "cell_type": "code",
   "execution_count": 10,
   "metadata": {},
   "outputs": [
    {
     "data": {
      "text/html": [
       "<div>\n",
       "<style scoped>\n",
       "    .dataframe tbody tr th:only-of-type {\n",
       "        vertical-align: middle;\n",
       "    }\n",
       "\n",
       "    .dataframe tbody tr th {\n",
       "        vertical-align: top;\n",
       "    }\n",
       "\n",
       "    .dataframe thead th {\n",
       "        text-align: right;\n",
       "    }\n",
       "</style>\n",
       "<table border=\"1\" class=\"dataframe\">\n",
       "  <thead>\n",
       "    <tr style=\"text-align: right;\">\n",
       "      <th></th>\n",
       "      <th>Confirmed</th>\n",
       "      <th>Year</th>\n",
       "      <th>Month</th>\n",
       "      <th>Day</th>\n",
       "      <th>Week</th>\n",
       "      <th>Weekofyear</th>\n",
       "      <th>Dayofweek</th>\n",
       "      <th>Weekday</th>\n",
       "      <th>Dayofyear</th>\n",
       "      <th>Quarter</th>\n",
       "    </tr>\n",
       "  </thead>\n",
       "  <tbody>\n",
       "    <tr>\n",
       "      <th>Confirmed</th>\n",
       "      <td>1.000000</td>\n",
       "      <td>NaN</td>\n",
       "      <td>0.900148</td>\n",
       "      <td>0.000370</td>\n",
       "      <td>0.903275</td>\n",
       "      <td>0.903275</td>\n",
       "      <td>-0.009023</td>\n",
       "      <td>-0.009023</td>\n",
       "      <td>0.903513</td>\n",
       "      <td>0.868656</td>\n",
       "    </tr>\n",
       "    <tr>\n",
       "      <th>Year</th>\n",
       "      <td>NaN</td>\n",
       "      <td>NaN</td>\n",
       "      <td>NaN</td>\n",
       "      <td>NaN</td>\n",
       "      <td>NaN</td>\n",
       "      <td>NaN</td>\n",
       "      <td>NaN</td>\n",
       "      <td>NaN</td>\n",
       "      <td>NaN</td>\n",
       "      <td>NaN</td>\n",
       "    </tr>\n",
       "    <tr>\n",
       "      <th>Month</th>\n",
       "      <td>0.900148</td>\n",
       "      <td>NaN</td>\n",
       "      <td>1.000000</td>\n",
       "      <td>-0.072999</td>\n",
       "      <td>0.994990</td>\n",
       "      <td>0.994990</td>\n",
       "      <td>-0.011690</td>\n",
       "      <td>-0.011690</td>\n",
       "      <td>0.995214</td>\n",
       "      <td>0.968102</td>\n",
       "    </tr>\n",
       "    <tr>\n",
       "      <th>Day</th>\n",
       "      <td>0.000370</td>\n",
       "      <td>NaN</td>\n",
       "      <td>-0.072999</td>\n",
       "      <td>1.000000</td>\n",
       "      <td>0.024504</td>\n",
       "      <td>0.024504</td>\n",
       "      <td>0.007488</td>\n",
       "      <td>0.007488</td>\n",
       "      <td>0.024681</td>\n",
       "      <td>-0.053772</td>\n",
       "    </tr>\n",
       "    <tr>\n",
       "      <th>Week</th>\n",
       "      <td>0.903275</td>\n",
       "      <td>NaN</td>\n",
       "      <td>0.994990</td>\n",
       "      <td>0.024504</td>\n",
       "      <td>1.000000</td>\n",
       "      <td>1.000000</td>\n",
       "      <td>-0.032976</td>\n",
       "      <td>-0.032976</td>\n",
       "      <td>0.999758</td>\n",
       "      <td>0.964564</td>\n",
       "    </tr>\n",
       "    <tr>\n",
       "      <th>Weekofyear</th>\n",
       "      <td>0.903275</td>\n",
       "      <td>NaN</td>\n",
       "      <td>0.994990</td>\n",
       "      <td>0.024504</td>\n",
       "      <td>1.000000</td>\n",
       "      <td>1.000000</td>\n",
       "      <td>-0.032976</td>\n",
       "      <td>-0.032976</td>\n",
       "      <td>0.999758</td>\n",
       "      <td>0.964564</td>\n",
       "    </tr>\n",
       "    <tr>\n",
       "      <th>Dayofweek</th>\n",
       "      <td>-0.009023</td>\n",
       "      <td>NaN</td>\n",
       "      <td>-0.011690</td>\n",
       "      <td>0.007488</td>\n",
       "      <td>-0.032976</td>\n",
       "      <td>-0.032976</td>\n",
       "      <td>1.000000</td>\n",
       "      <td>1.000000</td>\n",
       "      <td>-0.010997</td>\n",
       "      <td>-0.003046</td>\n",
       "    </tr>\n",
       "    <tr>\n",
       "      <th>Weekday</th>\n",
       "      <td>-0.009023</td>\n",
       "      <td>NaN</td>\n",
       "      <td>-0.011690</td>\n",
       "      <td>0.007488</td>\n",
       "      <td>-0.032976</td>\n",
       "      <td>-0.032976</td>\n",
       "      <td>1.000000</td>\n",
       "      <td>1.000000</td>\n",
       "      <td>-0.010997</td>\n",
       "      <td>-0.003046</td>\n",
       "    </tr>\n",
       "    <tr>\n",
       "      <th>Dayofyear</th>\n",
       "      <td>0.903513</td>\n",
       "      <td>NaN</td>\n",
       "      <td>0.995214</td>\n",
       "      <td>0.024681</td>\n",
       "      <td>0.999758</td>\n",
       "      <td>0.999758</td>\n",
       "      <td>-0.010997</td>\n",
       "      <td>-0.010997</td>\n",
       "      <td>1.000000</td>\n",
       "      <td>0.964964</td>\n",
       "    </tr>\n",
       "    <tr>\n",
       "      <th>Quarter</th>\n",
       "      <td>0.868656</td>\n",
       "      <td>NaN</td>\n",
       "      <td>0.968102</td>\n",
       "      <td>-0.053772</td>\n",
       "      <td>0.964564</td>\n",
       "      <td>0.964564</td>\n",
       "      <td>-0.003046</td>\n",
       "      <td>-0.003046</td>\n",
       "      <td>0.964964</td>\n",
       "      <td>1.000000</td>\n",
       "    </tr>\n",
       "  </tbody>\n",
       "</table>\n",
       "</div>"
      ],
      "text/plain": [
       "            Confirmed  Year     Month       Day      Week  Weekofyear  \\\n",
       "Confirmed    1.000000   NaN  0.900148  0.000370  0.903275    0.903275   \n",
       "Year              NaN   NaN       NaN       NaN       NaN         NaN   \n",
       "Month        0.900148   NaN  1.000000 -0.072999  0.994990    0.994990   \n",
       "Day          0.000370   NaN -0.072999  1.000000  0.024504    0.024504   \n",
       "Week         0.903275   NaN  0.994990  0.024504  1.000000    1.000000   \n",
       "Weekofyear   0.903275   NaN  0.994990  0.024504  1.000000    1.000000   \n",
       "Dayofweek   -0.009023   NaN -0.011690  0.007488 -0.032976   -0.032976   \n",
       "Weekday     -0.009023   NaN -0.011690  0.007488 -0.032976   -0.032976   \n",
       "Dayofyear    0.903513   NaN  0.995214  0.024681  0.999758    0.999758   \n",
       "Quarter      0.868656   NaN  0.968102 -0.053772  0.964564    0.964564   \n",
       "\n",
       "            Dayofweek   Weekday  Dayofyear   Quarter  \n",
       "Confirmed   -0.009023 -0.009023   0.903513  0.868656  \n",
       "Year              NaN       NaN        NaN       NaN  \n",
       "Month       -0.011690 -0.011690   0.995214  0.968102  \n",
       "Day          0.007488  0.007488   0.024681 -0.053772  \n",
       "Week        -0.032976 -0.032976   0.999758  0.964564  \n",
       "Weekofyear  -0.032976 -0.032976   0.999758  0.964564  \n",
       "Dayofweek    1.000000  1.000000  -0.010997 -0.003046  \n",
       "Weekday      1.000000  1.000000  -0.010997 -0.003046  \n",
       "Dayofyear   -0.010997 -0.010997   1.000000  0.964964  \n",
       "Quarter     -0.003046 -0.003046   0.964964  1.000000  "
      ]
     },
     "execution_count": 10,
     "metadata": {},
     "output_type": "execute_result"
    }
   ],
   "source": [
    "df.corr()"
   ]
  },
  {
   "cell_type": "code",
   "execution_count": 15,
   "metadata": {},
   "outputs": [],
   "source": [
    "\n",
    "X = df.drop(['Date1','Confirmed',\"Year\"],axis=1)\n",
    "y = df.Confirmed\n",
    "x = df.Date1\n"
   ]
  },
  {
   "cell_type": "code",
   "execution_count": 16,
   "metadata": {},
   "outputs": [],
   "source": [
    "\n",
    "\n",
    "x=list(x.index)\n"
   ]
  },
  {
   "cell_type": "code",
   "execution_count": 17,
   "metadata": {},
   "outputs": [],
   "source": [
    "x=np.array(x).reshape(-1,1)\n"
   ]
  },
  {
   "cell_type": "code",
   "execution_count": 19,
   "metadata": {},
   "outputs": [],
   "source": [
    "X = X.values"
   ]
  },
  {
   "cell_type": "code",
   "execution_count": 21,
   "metadata": {},
   "outputs": [],
   "source": [
    "#test, train\n",
    "from sklearn.model_selection import train_test_split\n",
    "X_train, X_test, y_train, y_test = train_test_split(X, y, test_size = 0.2, random_state=5)\n",
    "\n"
   ]
  },
  {
   "cell_type": "code",
   "execution_count": 22,
   "metadata": {},
   "outputs": [
    {
     "data": {
      "text/plain": [
       "LinearRegression()"
      ]
     },
     "execution_count": 22,
     "metadata": {},
     "output_type": "execute_result"
    }
   ],
   "source": [
    "#linear reg model\n",
    "from sklearn.linear_model import LinearRegression\n",
    "from sklearn.metrics import mean_squared_error, accuracy_score, confusion_matrix, classification_report\n",
    "lin_model = LinearRegression()\n",
    "lin_model.fit(X_train, y_train)\n"
   ]
  },
  {
   "cell_type": "code",
   "execution_count": 23,
   "metadata": {},
   "outputs": [],
   "source": [
    "\n",
    "y_pred = lin_model.predict(X_train)\n"
   ]
  },
  {
   "cell_type": "code",
   "execution_count": 24,
   "metadata": {},
   "outputs": [
    {
     "name": "stdout",
     "output_type": "stream",
     "text": [
      "RMSE is 1172244.7939495037\n",
      "\n",
      "\n",
      "RMSE is 1343644.6111200617\n"
     ]
    }
   ],
   "source": [
    "#rmsevalues\n",
    "\n",
    "rmse = (np.sqrt(mean_squared_error(y_train, y_pred)))\n",
    "print('RMSE is {}'.format(rmse))\n",
    "print(\"\\n\")\n",
    "\n",
    "y_pred = lin_model.predict(X_test)\n",
    "rmse = (np.sqrt(mean_squared_error(y_test, y_pred)))\n",
    "print('RMSE is {}'.format(rmse))"
   ]
  },
  {
   "cell_type": "markdown",
   "metadata": {},
   "source": [
    "# clustering unsupervised learning"
   ]
  },
  {
   "cell_type": "code",
   "execution_count": 26,
   "metadata": {},
   "outputs": [
    {
     "name": "stdout",
     "output_type": "stream",
     "text": [
      "[0 3 3 0 3 3 2 0 1 2 3 4 2 3 1 4 2 2 0 4 3 4 3 3 0 0 1 3 4 4 0 1 0 0 0 2 0\n",
      " 1 1 1 0 2 3 0 4 2 0 4 1 2 4 1 2 2 4 1 0 0 4 2 4 0 2 0 2 3 0 1 0 0 4 3 4 4\n",
      " 2 0 3 3 0 1 3 1 1 1 0 0 2 3 3 4 4 4 3 3 0 3 4 3 2 1 0 4 1 4 2 0 1 2 0 1 2\n",
      " 4 1 3 0 1 3 4 1 2 1 1 3 0 4 1 0 3 4 0 3 3 1 2 0 2 3 3 1 2 3 2 0 4 4 4 2 4\n",
      " 2 0 2 3 1 4 1 2 4 2 4 3 3 1 3 2 0 3 0 4 1 1 3 0 0 3 1 1 0 3 0 4 0 3 0 0 1\n",
      " 4 0 1 1 1 1 4 2 2 3 3 3 1 0 2 2 4 2 3 4 4 1 0 3 0 4 1 3 0 1 4 0 0 1 1 4 0\n",
      " 2 1 4 3 2 1 0 1 1 4 2 4 3 3 2 2 4 4 3 2 3 1 4 3 3 2 4 1 3 3]\n"
     ]
    }
   ],
   "source": [
    "from sklearn.cluster import KMeans\n",
    "kmeans5 = KMeans(n_clusters=5)\n",
    "y_km5 = kmeans5.fit_predict(X_train)\n",
    "print(y_km5)"
   ]
  },
  {
   "cell_type": "code",
   "execution_count": 27,
   "metadata": {},
   "outputs": [
    {
     "data": {
      "text/plain": [
       "array([[ 10.72222222,  15.51851852,  45.25925926,  45.25925926,\n",
       "          2.96296296,   2.96296296, 311.77777778,   4.        ],\n",
       "       [  6.37254902,  16.92156863,  26.45098039,  26.45098039,\n",
       "          2.8627451 ,   2.8627451 , 180.01960784,   2.45098039],\n",
       "       [  2.27906977,  13.6744186 ,   8.20930233,   8.20930233,\n",
       "          3.20930233,   3.20930233,  52.6744186 ,   1.        ],\n",
       "       [  8.65454545,  14.58181818,  36.10909091,  36.10909091,\n",
       "          3.01818182,   3.01818182, 247.78181818,   3.09090909],\n",
       "       [  4.2244898 ,  16.24489796,  17.        ,  17.        ,\n",
       "          2.85714286,   2.85714286, 113.85714286,   1.87755102]])"
      ]
     },
     "execution_count": 27,
     "metadata": {},
     "output_type": "execute_result"
    }
   ],
   "source": [
    "kmeans5.cluster_centers_\n"
   ]
  },
  {
   "cell_type": "code",
   "execution_count": 28,
   "metadata": {},
   "outputs": [],
   "source": [
    "clusters = list(np.arange(1,11))\n"
   ]
  },
  {
   "cell_type": "code",
   "execution_count": 30,
   "metadata": {},
   "outputs": [],
   "source": [
    "\n",
    "distortions = []\n",
    "K = range(1,10)\n",
    "for k in K:\n",
    "    kmeanModel = KMeans(n_clusters=k)\n",
    "    kmeanModel.fit(X_train)\n",
    "    distortions.append(kmeanModel.inertia_)\n"
   ]
  },
  {
   "cell_type": "code",
   "execution_count": 31,
   "metadata": {},
   "outputs": [
    {
     "data": {
      "image/png": "[encoded data removed]",
      "text/plain": [
       "<Figure size 1152x576 with 1 Axes>"
      ]
     },
     "metadata": {
      "needs_background": "light"
     },
     "output_type": "display_data"
    }
   ],
   "source": [
    "plt.figure(figsize=(16,8))\n",
    "plt.plot(K, distortions, 'bx-')\n",
    "plt.xlabel('Optimal Kclusters')\n",
    "plt.ylabel('Distor')\n",
    "plt.title('The Elbow Method optial k')\n",
    "plt.show()\n"
   ]
  },
  {
   "cell_type": "code",
   "execution_count": 32,
   "metadata": {},
   "outputs": [
    {
     "name": "stdout",
     "output_type": "stream",
     "text": [
      "[1 0 1 1 0 1 2 1 0 2 1 2 2 0 0 0 2 2 1 2 1 2 0 1 1 1 0 1 2 2 1 0 1 1 1 2 1\n",
      " 0 0 0 1 2 1 1 2 2 1 2 0 2 2 0 2 2 2 0 1 1 2 2 2 1 2 1 2 0 1 0 1 1 2 1 2 2\n",
      " 2 1 1 0 1 0 1 0 0 0 1 1 2 1 1 2 2 0 0 1 1 0 0 1 2 0 1 2 0 2 2 1 0 2 1 0 2\n",
      " 2 0 1 1 0 0 2 0 2 0 0 1 1 2 0 1 1 2 1 1 1 0 2 1 2 1 1 0 2 1 2 1 2 0 2 2 2\n",
      " 2 1 2 1 0 2 0 2 0 2 2 1 1 0 1 2 1 0 1 2 0 0 1 1 1 1 0 0 1 1 1 2 1 1 1 1 0\n",
      " 2 1 0 0 0 0 2 2 2 1 1 0 0 1 2 2 2 2 1 2 2 0 1 0 1 0 0 1 1 0 0 1 1 0 0 0 1\n",
      " 2 0 0 1 2 0 1 0 0 2 2 2 0 0 2 2 2 0 0 2 1 0 0 1 1 2 2 0 0 0]\n"
     ]
    }
   ],
   "source": [
    "#cluster n=3\n",
    "kmeans3 = KMeans(n_clusters=3)\n",
    "y_km3 = kmeans3.fit_predict(X_train)\n",
    "print(y_km3)\n"
   ]
  },
  {
   "cell_type": "code",
   "execution_count": 34,
   "metadata": {},
   "outputs": [
    {
     "data": {
      "text/plain": [
       "array([[  6.53164557,  16.20253165,  27.05063291,  27.05063291,\n",
       "          2.82278481,   2.82278481, 184.17721519,   2.50632911],\n",
       "       [  9.98913043,  15.44565217,  42.06521739,  42.06521739,\n",
       "          2.93478261,   2.93478261, 289.39130435,   3.64130435],\n",
       "       [  3.08641975,  14.64197531,  11.82716049,  11.82716049,\n",
       "          3.17283951,   3.17283951,  77.96296296,   1.39506173]])"
      ]
     },
     "execution_count": 34,
     "metadata": {},
     "output_type": "execute_result"
    }
   ],
   "source": [
    "kmeans3.cluster_centers_\n",
    "\n"
   ]
  },
  {
   "cell_type": "code",
   "execution_count": 35,
   "metadata": {},
   "outputs": [],
   "source": [
    "#Hierarchical Clustering  Agglomerative\n",
    "\n",
    "from sklearn.cluster import AgglomerativeClustering"
   ]
  },
  {
   "cell_type": "code",
   "execution_count": 36,
   "metadata": {},
   "outputs": [],
   "source": [
    "\n",
    "cll= AgglomerativeClustering(n_clusters = 3, affinity = 'euclidean', linkage = 'ward')\n",
    "#predictinglabels\n",
    "labels = cll.fit_predict(X_train)\n"
   ]
  },
  {
   "cell_type": "code",
   "execution_count": 37,
   "metadata": {},
   "outputs": [
    {
     "data": {
      "image/png": "[encoded data removed]",
      "text/plain": [
       "<Figure size 432x288 with 1 Axes>"
      ]
     },
     "metadata": {
      "needs_background": "light"
     },
     "output_type": "display_data"
    }
   ],
   "source": [
    "from scipy.cluster.hierarchy import dendrogram , linkage\n",
    "#Linkage Matrix\n",
    "Z = linkage(X_train, method = 'ward')\n",
    "#plotting dendrogram\n",
    "dendro = dendrogram(Z)\n",
    "plt.title('Dendrogram')\n",
    "plt.ylabel('Euclidean distance')\n",
    "plt.show()\n"
   ]
  },
  {
   "cell_type": "markdown",
   "metadata": {},
   "source": [
    "# PCA"
   ]
  },
  {
   "cell_type": "code",
   "execution_count": 38,
   "metadata": {},
   "outputs": [],
   "source": [
    "\n",
    "from sklearn.decomposition import PCA\n",
    "pca = PCA()\n",
    "X_train = pca.fit_transform(X_train)\n",
    "X_test = pca.transform(X_test)"
   ]
  },
  {
   "cell_type": "code",
   "execution_count": 39,
   "metadata": {},
   "outputs": [],
   "source": [
    "p_var = pca.explained_variance_ratio_\n"
   ]
  },
  {
   "cell_type": "code",
   "execution_count": 40,
   "metadata": {},
   "outputs": [
    {
     "name": "stdout",
     "output_type": "stream",
     "text": [
      "[9.90056484e-01 9.01813825e-03 9.17845638e-04 7.50750031e-06\n",
      " 2.48969700e-08 3.10988492e-33 3.43770089e-36 5.19686022e-37]\n"
     ]
    }
   ],
   "source": [
    "print(p_var)\n"
   ]
  },
  {
   "cell_type": "code",
   "execution_count": 42,
   "metadata": {},
   "outputs": [
    {
     "name": "stdout",
     "output_type": "stream",
     "text": [
      " 0.990056\n",
      " 0.009018\n",
      " 0.000918\n",
      " 0.000008\n",
      " 0.000000\n",
      " 0.000000\n",
      " 0.000000\n",
      " 0.000000\n"
     ]
    }
   ],
   "source": [
    "for x in p_var:\n",
    "    print(\"{:9f}\".format(float(x)))"
   ]
  },
  {
   "cell_type": "markdown",
   "metadata": {},
   "source": [
    "It can be seen that first component is responsible for 98.87% of variance"
   ]
  },
  {
   "cell_type": "code",
   "execution_count": 43,
   "metadata": {},
   "outputs": [],
   "source": [
    "from sklearn.decomposition import PCA\n",
    "p = PCA(n_components=1)\n",
    "X_train = p.fit_transform(X_train)\n",
    "X_test = p.transform(X_test)\n"
   ]
  },
  {
   "cell_type": "code",
   "execution_count": 44,
   "metadata": {},
   "outputs": [
    {
     "data": {
      "text/plain": [
       "LinearRegression()"
      ]
     },
     "execution_count": 44,
     "metadata": {},
     "output_type": "execute_result"
    }
   ],
   "source": [
    "#REBUILDING LINEAR MODEL \n",
    "from sklearn.linear_model import LinearRegression\n",
    "from sklearn.metrics import mean_squared_error, accuracy_score, confusion_matrix, classification_report\n",
    "lin_model = LinearRegression()\n",
    "lin_model.fit(X_train, y_train)\n"
   ]
  },
  {
   "cell_type": "code",
   "execution_count": 45,
   "metadata": {},
   "outputs": [
    {
     "name": "stdout",
     "output_type": "stream",
     "text": [
      "The model performance for training set\n",
      "RMSE is 1445175.7667573392\n",
      "\n",
      "\n",
      "The model performance for testing set\n",
      "RMSE is 1414957.9132776093\n"
     ]
    }
   ],
   "source": [
    "y_pred = lin_model.predict(X_train)\n",
    "\n",
    "rmse = (np.sqrt(mean_squared_error(y_train, y_pred)))\n",
    "print(\"The model performance for training set\")\n",
    "print('RMSE is {}'.format(rmse))\n",
    "print(\"\\n\")\n",
    "\n",
    "y_pred = lin_model.predict(X_test)\n",
    "rmse = (np.sqrt(mean_squared_error(y_test, y_pred)))\n",
    "print(\"The model performance for testing set\")\n",
    "print('RMSE is {}'.format(rmse))\n"
   ]
  },
  {
   "cell_type": "code",
   "execution_count": 47,
   "metadata": {},
   "outputs": [
    {
     "name": "stdout",
     "output_type": "stream",
     "text": [
      "[0 2 2 0 2 2 3 0 4 3 2 1 3 4 4 1 3 3 0 1 2 1 4 2 0 0 4 2 1 1 0 4 0 0 0 3 0\n",
      " 4 4 4 0 3 2 0 1 3 0 1 4 3 1 4 3 3 1 4 0 0 1 3 1 0 3 0 3 2 0 4 0 0 1 2 1 1\n",
      " 3 0 2 2 0 4 2 4 4 4 0 0 3 2 2 1 1 1 2 2 0 2 1 2 3 4 0 1 4 3 3 0 4 3 0 4 3\n",
      " 1 4 2 0 4 2 1 4 3 4 4 2 0 1 4 0 2 1 0 2 2 4 3 0 3 2 2 4 3 2 3 0 1 1 1 3 1\n",
      " 3 0 3 2 4 1 4 3 1 3 1 2 2 4 2 3 0 2 0 1 4 4 2 0 0 2 4 4 0 2 0 1 0 2 0 0 4\n",
      " 1 0 4 4 4 4 1 3 3 2 2 2 4 0 3 3 1 3 2 1 1 4 0 2 0 1 4 2 0 4 1 0 0 4 4 1 0\n",
      " 3 4 1 2 3 4 0 4 4 1 3 1 2 2 3 3 1 1 2 3 2 4 1 2 2 3 1 1 2 2]\n"
     ]
    }
   ],
   "source": [
    "#KMEANS REBUILD\n",
    "from sklearn.cluster import KMeans\n",
    "kmeans5 = KMeans(n_clusters=5)\n",
    "y_km5 = kmeans5.fit_predict(X_train)\n",
    "print(y_km5)\n"
   ]
  },
  {
   "cell_type": "code",
   "execution_count": 48,
   "metadata": {},
   "outputs": [
    {
     "data": {
      "text/plain": [
       "array([[-125.8939423 ],\n",
       "       [  74.79985087],\n",
       "       [ -61.84802581],\n",
       "       [ 137.88188522],\n",
       "       [   6.61966558]])"
      ]
     },
     "execution_count": 48,
     "metadata": {},
     "output_type": "execute_result"
    }
   ],
   "source": [
    "\n",
    "kmeans5.cluster_centers_\n"
   ]
  },
  {
   "cell_type": "code",
   "execution_count": 49,
   "metadata": {},
   "outputs": [],
   "source": [
    "clusters = list(np.arange(1,11))\n"
   ]
  },
  {
   "cell_type": "code",
   "execution_count": 50,
   "metadata": {},
   "outputs": [],
   "source": [
    "distortions = []\n",
    "ARR = range(1,10)\n",
    "for k in ARR:\n",
    "    kmeanModel = KMeans(n_clusters=k)\n",
    "    kmeanModel.fit(X)\n",
    "    distortions.append(kmeanModel.inertia_)\n"
   ]
  },
  {
   "cell_type": "code",
   "execution_count": 52,
   "metadata": {},
   "outputs": [
    {
     "data": {
      "image/png": "[encoded data removed]",
      "text/plain": [
       "<Figure size 1152x576 with 1 Axes>"
      ]
     },
     "metadata": {
      "needs_background": "light"
     },
     "output_type": "display_data"
    }
   ],
   "source": [
    "plt.figure(figsize=(16,8))\n",
    "plt.plot(ARR, distortions, 'bx-')\n",
    "plt.xlabel('Optimal KClusters')\n",
    "plt.ylabel('Distor')\n",
    "plt.title('The Elbow Method optimal k')\n",
    "plt.show()\n"
   ]
  },
  {
   "cell_type": "code",
   "execution_count": 53,
   "metadata": {},
   "outputs": [
    {
     "name": "stdout",
     "output_type": "stream",
     "text": [
      "[1 1 1 1 1 1 1 1 1 1 1 1 1 1 1 1 1 1 1 1 1 1 1 1 1 1 1 1 1 1 1 1 1 1 1 1 1\n",
      " 1 1 1 1 1 1 1 1 1 1 1 1 1 1 1 1 1 1 1 1 1 1 1 1 1 1 1 1 1 1 1 1 1 1 1 1 1\n",
      " 1 1 1 1 1 1 1 1 1 1 1 1 1 1 1 1 1 1 1 1 1 1 1 1 1 1 1 1 1 1 0 0 0 0 0 0 0\n",
      " 0 0 0 0 0 0 0 0 0 0 0 0 0 0 0 0 0 0 0 0 0 0 0 0 0 0 0 0 0 0 0 0 0 0 0 0 0\n",
      " 0 0 0 0 0 0 0 0 0 0 0 0 0 0 0 0 0 0 0 0 0 0 0 0 0 0 0 0 0 0 0 0 0 0 0 0 0\n",
      " 0 0 0 0 0 0 0 0 0 0 0 0 0 0 0 0 0 0 0 0 0 0 0 0 2 2 2 2 2 2 2 2 2 2 2 2 2\n",
      " 2 2 2 2 2 2 2 2 2 2 2 2 2 2 2 2 2 2 2 2 2 2 2 2 2 2 2 2 2 2 2 2 2 2 2 2 2\n",
      " 2 2 2 2 2 2 2 2 2 2 2 2 2 2 2 2 2 2 2 2 2 2 2 2 2 2 2 2 2 2 2 2 2 2 2 2 2\n",
      " 2 2 2 2 2 2 2 2 2 2 2 2 2 2 2 2 2 2 2]\n"
     ]
    }
   ],
   "source": [
    "from sklearn.cluster import KMeans\n",
    "kmeans3 = KMeans(n_clusters=3)\n",
    "ykm3 = kmeans3.fit_predict(X)\n",
    "print(ykm3)\n"
   ]
  },
  {
   "cell_type": "code",
   "execution_count": 54,
   "metadata": {},
   "outputs": [
    {
     "data": {
      "text/plain": [
       "array([[  6.59047619,  16.22857143,  27.28571429,  27.28571429,\n",
       "          3.        ,   3.        , 186.        ,   2.53333333],\n",
       "       [  3.20192308,  14.75961538,  12.35576923,  12.35576923,\n",
       "          3.00961538,   3.00961538,  81.5       ,   1.40384615],\n",
       "       [ 10.05660377,  15.49056604,  42.35849057,  42.35849057,\n",
       "          2.99056604,   2.99056604, 291.5       ,   3.66037736]])"
      ]
     },
     "execution_count": 54,
     "metadata": {},
     "output_type": "execute_result"
    }
   ],
   "source": [
    "kmeans3.cluster_centers_\n"
   ]
  },
  {
   "cell_type": "code",
   "execution_count": 55,
   "metadata": {},
   "outputs": [],
   "source": [
    "#after pca  AgglomerativeClustering\n",
    "from sklearn.cluster import AgglomerativeClustering\n"
   ]
  },
  {
   "cell_type": "code",
   "execution_count": 56,
   "metadata": {},
   "outputs": [],
   "source": [
    "cll = AgglomerativeClustering(n_clusters = 3, affinity = 'euclidean', linkage = 'ward')\n",
    "#predictinglabels\n",
    "labels = cll.fit_predict(X_train)\n"
   ]
  },
  {
   "cell_type": "code",
   "execution_count": 57,
   "metadata": {},
   "outputs": [
    {
     "data": {
      "image/png": "[encoded data removed]",
      "text/plain": [
       "<Figure size 432x288 with 1 Axes>"
      ]
     },
     "metadata": {
      "needs_background": "light"
     },
     "output_type": "display_data"
    }
   ],
   "source": [
    "from scipy.cluster.hierarchy import dendrogram , linkage\n",
    "\n",
    "#Linkage Matrix\n",
    "a= linkage(X_train, method = 'ward')\n",
    "#plotting dendrogram\n",
    "dendro = dendrogram(a)\n",
    "plt.title('Dendrogram')\n",
    "plt.ylabel('Euclidean distance')\n",
    "plt.show()\n"
   ]
  },
  {
   "cell_type": "code",
   "execution_count": null,
   "metadata": {},
   "outputs": [],
   "source": []
  }
 ],
 "metadata": {
  "kernelspec": {
   "display_name": "Python 3",
   "language": "python",
   "name": "python3"
  },
  "language_info": {
   "codemirror_mode": {
    "name": "ipython",
    "version": 3
   },
   "file_extension": ".py",
   "mimetype": "text/x-python",
   "name": "python",
   "nbconvert_exporter": "python",
   "pygments_lexer": "ipython3",
   "version": "3.8.5"
  }
 },
 "nbformat": 4,
 "nbformat_minor": 4
}
