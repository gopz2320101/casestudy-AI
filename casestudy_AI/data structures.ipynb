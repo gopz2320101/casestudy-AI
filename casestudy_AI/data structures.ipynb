{
 "cells": [
  {
   "cell_type": "code",
   "execution_count": 2,
   "metadata": {},
   "outputs": [
    {
     "name": "stdout",
     "output_type": "stream",
     "text": [
      "[1, 2, 3, 4, 5]\n"
     ]
    }
   ],
   "source": [
    "'''insertion sort question 1,a.'''\n",
    "def insertion_sort(arr):\n",
    "    for i in range (1,len(arr)):\n",
    "        v = arr[i]\n",
    "        j = i-1\n",
    "        while j>=0 and arr[j]>v:\n",
    "            arr[j+1] = arr[j]\n",
    "            j = j-1\n",
    "            arr[j+1] = v\n",
    "    return arr\n",
    "arr=[2,5,4,3,1]\n",
    "sorted_array = insertion_sort(arr)\n",
    "print(sorted_array)"
   ]
  },
  {
   "cell_type": "code",
   "execution_count": 3,
   "metadata": {},
   "outputs": [
    {
     "name": "stdout",
     "output_type": "stream",
     "text": [
      "[1, 2, 12, 32, 81, 91]\n"
     ]
    }
   ],
   "source": [
    "array=[12,2,32,1,91,81]\n",
    "sorted_array = insertion_sort(array)\n",
    "print(sorted_array)"
   ]
  },
  {
   "cell_type": "code",
   "execution_count": null,
   "metadata": {},
   "outputs": [],
   "source": [
    "'''alternative disk queestion 2,a.\n",
    "lets consider black disk as 1 and white as 0 in form of array  \n",
    "'''\n",
    "\n",
    "def alter_disk(arr):\n",
    "    i =len(arr)\n",
    "    for i in range(len(arr)):\n",
    "        swapped = False\n",
    "        j = 0\n",
    "        while j<=i-1:\n",
    "            if arr[j]>arr[j+1]:\n",
    "                arr[j],arr[j+1]=arr[j+1],arr[j]\n",
    "                swapped = True\n",
    "    i-=1\n",
    "        \n",
    "array=[0,1,0,1,0,1,0,1]   \n",
    "arrange = alter_disk(arr)\n",
    "print(arrange)"
   ]
  },
  {
   "cell_type": "code",
   "execution_count": null,
   "metadata": {},
   "outputs": [],
   "source": [
    "array=[0,1,0,1,0,1,0,1]\n",
    "sorted_array = insertion_sort(array)\n",
    "print(sorted_array)"
   ]
  },
  {
   "cell_type": "code",
   "execution_count": null,
   "metadata": {},
   "outputs": [],
   "source": []
  }
 ],
 "metadata": {
  "kernelspec": {
   "display_name": "Python 3",
   "language": "python",
   "name": "python3"
  },
  "language_info": {
   "codemirror_mode": {
    "name": "ipython",
    "version": 3
   },
   "file_extension": ".py",
   "mimetype": "text/x-python",
   "name": "python",
   "nbconvert_exporter": "python",
   "pygments_lexer": "ipython3",
   "version": "3.8.5"
  }
 },
 "nbformat": 4,
 "nbformat_minor": 4
}
